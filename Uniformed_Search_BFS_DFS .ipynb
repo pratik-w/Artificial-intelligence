{
 "cells": [
  {
   "cell_type": "markdown",
   "metadata": {},
   "source": [
    "# Assignment 1: Uninformed Search"
   ]
  },
  {
   "cell_type": "markdown",
   "metadata": {},
   "source": [
    "Pratik Warade"
   ]
  },
  {
   "cell_type": "markdown",
   "metadata": {},
   "source": [
    "## Overview"
   ]
  },
  {
   "cell_type": "markdown",
   "metadata": {},
   "source": [
    "Breadth-first and depth-first are two algorithms for performing\n",
    "uninformed search---a search that does not use\n",
    "knowledge about the goal of the search.  In this assignment, I implemented both\n",
    "search algorithms in python and test them on a simple graph."
   ]
  },
  {
   "cell_type": "markdown",
   "metadata": {},
   "source": [
    "## Understanding Of Algorithms"
   ]
  },
  {
   "cell_type": "markdown",
   "metadata": {},
   "source": [
    "In this jupyter notebook, I  implemented both of the following functions:\n",
    "\n",
    "  * `breadthFirstSearch(startState, goalState, successorsf)` \n",
    "  * `depthFirstSearch(startState, goalState, successorsf)`\n",
    "  \n",
    "  \n",
    "  \n",
    "## Breadth First Search : \n",
    "\n",
    "Bfs is an AI search alggorithm use for finding solutions to a problem. BFS is used for trasversing graph data. In other words, it exhaustively searches the entire graph or sequence without considering the goal until it finds it. It does not use a heuristic algorithm. In AI world, various problems can be represented as graph. For example chess board game can be represented in graph form where node are the possible state of a player and edges represents moves such as moving forward, backward, etc. BFS is simple and effective. \n",
    "\n",
    "### BFS follows the following steps :\n",
    "\n",
    "* Check the starting node and add its neighbours to the queue. \n",
    "* Mark the starting node as explored.\n",
    "* Get the first node from the queue / remove it from the queue ..(3)\n",
    "* Check if node has already been visited.\n",
    "* If not, go through the neighbours of the node.\n",
    "* Add the neighbour nodes to the queue.\n",
    "* Mark the node as explored...(7)\n",
    "* Loop through steps 3 to 7 until the queue is empty.\n",
    "\n",
    "\n",
    "\n",
    "\n",
    "\n",
    "\n",
    "\n",
    "\n",
    "Each function receives as arguments the starting state, the goal state, and a successors function.  `breadthFirstSearch` returns the breadth-first solution path as a list of states starting with the `startState` and ending with the `goalState`.  `depthFirstSearch` returns the depth-first solution path.\n",
    "\n",
    "Figure 1 – Breadth-first traversal on the state space denoted by a search tree. The root node is ‘A’ and the goal node is ‘F’.\n",
    "\n",
    "<img src=\"http://digit.lk/old/sites/default/files/10_april_img/ai1.jpg\">\n",
    "\n",
    "The breadth-first traversal searches the tree in this order as depicted by the red arrows.\n",
    "            \n",
    "                                            Solution Path :  A->B->C->D->E->F\n",
    "                                            \n",
    "\n",
    "Advantages:-\n",
    "\n",
    "* This uninformed search strategy can find the goal node where ever it is located in the search tree since it traverses the each node in a breadth-first manner until the goal node is reached. So we call this search strategy to be ‘Complete’ since it always guarantees that it finds the goal node at some level.\n",
    "This finds the goal node is an optimal manner if each of the costs of traversing one node to the other is similar for the entire search tree.\n",
    "\n",
    "Disadvantages:-\n",
    "\n",
    "* Consumes lot of time – For example if the goal node is located at a depth of say 1000 in the tree, it has to traverse all the nodes until the depth 1000 to reach at that goal node which would be computationally very expensive. So BFS is not suitable for complex and large problems with a high order search tree.\n",
    "Consumes lot of space – At each node it expands the nodes connected to it in the next depth level. Therefore, at each iteration it has to keep in memory all the nodes that have visited so far leading to a high requirement of memory. Therefore we can conclude that BFS has a high time complexity and space complexity.\n",
    "                                           \n",
    "\n",
    "\n"
   ]
  },
  {
   "cell_type": "markdown",
   "metadata": {},
   "source": [
    "## Depth First Search :\n",
    "\n",
    "In the depth-first search (DFS) strategy, there is a clear distinction from the BFS. This always expands the deepest node in the search tree and goes along the depth of each node rather than across the breadth. Figure shown bellow show how DFS would works.Depth-first traversal on the state space denoted by a search tree. The root node is ‘A’ and the goal node is ‘F’.\n",
    "\n",
    "<img src=\"http://digit.lk/old/sites/default/files/10_april_img/ai2.jpg\">\n",
    "\n",
    "The depth-first traversal searches the tree in this order as depicted by the blue arrows.\n",
    "\n",
    "                                                    Solution Path :A->B->E->F\n",
    "\n",
    "\n",
    "\n",
    "In this particular scenario, it can be clearly seen that DFS find the goal node in less number of steps when compared to BFS (There can be situations where this would not hold as well).\n",
    "Advantages:-\n",
    "\n",
    "* Better memory requirements – It only needs to store as single path from the root to leaf node, along the remaining unexpanded sibling nodes for each node in the path. Once a node has been traversed, it can be removed from the memory as soon as all its descendent nodes (immediate child and all other descendent nodes from that particular node – for example node B can be removed from memory once nodes E and F are traversed).\n",
    "\n",
    "Disadvantages:-\n",
    "\n",
    "* Does not give an optimal solution – This search strategy might make a wrong choice in the earlier stages of the searching and keep on moving along a very deep path (or even an infinite path) for a long time never realizing that the goal node is not in that path because it does not have heuristics to understand that. Therefore, DFS does not give an optimal solution.\n",
    "Does not give a complete solution – If there is a left sub-tree with no goal node, which spans in depth for a long path, DFS would keep on going down and down never terminating leading to an incomplete solution(some content is taken from digit.lk).                                         \n"
   ]
  },
  {
   "cell_type": "markdown",
   "metadata": {},
   "source": [
    "## Implementation of Algorithm\n",
    "\n",
    " The algorithm maintains a local variable named `unExpanded` to be a list\n",
    "of nodes whose children have not yet been generated (like the authors'\n",
    "`frontier` variable), and a dictionary named `expanded` to keep\n",
    "the nodes for which we have generated the children (like the authors'\n",
    "`explored` variable).  In each a node is stored with its parent,\n",
    "allowing a solution path to be gaenerated be stepping backwards from\n",
    "the goal node once it is found.\n",
    "\n",
    "Given the `startState`, `goalState`, `successorsf`, and\n",
    "`breadthFirst` (a boolean variable):\n",
    "  * Initialize `expanded` to be an empty dictionary\n",
    "  * Initialize `unExpanded` to be a list containing the pair `(startState, None)`\n",
    "  * If `startState` is the `goalState`, return the list containing just `startState`\n",
    "  * Repeat the following steps while `unExpanded` is not empty:\n",
    "    * Pop from the end of `unExpanded` a (`state`, `parent`) pair.\n",
    "    * Generate the `children` of `state` using the `successorsf` function.\n",
    "    * Add `state: parent` to the `expanded` dictionary\n",
    "    * For efficiency, remove from `children` any states that are already  in `expanded` or `unExpanded`.\n",
    "    * If the goal has been found (in python, `goalState` is in `children`):\n",
    "      * Initialize the solution path with the list `[state, goalState]`. \n",
    "      * While `parent` exists:\n",
    "        * Insert `parent` to the front of the solution path.\n",
    "        * Set `parent` to the parent of `parent`.\n",
    "      * Return the solution path.\n",
    "    * Sort and reverse the list of states in `children`, so that we all find the same solution paths.\n",
    "    * Create a modified `children` list by changing each entry to be a pair (child, `parent`), where `parent` is the parent of the child.\n",
    "    * Insert the modified `children` list into the `unExpanded` list at the front if doing breadth-first search, or at the back if doing depth-first search."
   ]
  },
  {
   "cell_type": "markdown",
   "metadata": {},
   "source": [
    "All imports required for program are listed in below cell"
   ]
  },
  {
   "cell_type": "code",
   "execution_count": 1,
   "metadata": {
    "collapsed": true
   },
   "outputs": [],
   "source": [
    "import time\n",
    "from numpy import *\n",
    "import math\n",
    "import matplotlib.pyplot as plt\n",
    "%matplotlib inline\n",
    "import pylab as pl\n",
    "import pylab as pylab\n",
    "import numpy as np\n",
    "from IPython import display\n",
    "import copy"
   ]
  },
  {
   "cell_type": "markdown",
   "metadata": {},
   "source": [
    "Following function implements common algorithm between BFS and DFS algorithm as shown in above description. "
   ]
  },
  {
   "cell_type": "code",
   "execution_count": 2,
   "metadata": {
    "collapsed": true
   },
   "outputs": [],
   "source": [
    "\n",
    "def algo(startState, goalState, successorsf,breadthFirst):\n",
    "    #1. intialiazing variables\n",
    "    expanded={}\n",
    "    unExpanded=[(startState,None)]\n",
    "    #2. check is start state is goal state\n",
    "    if (startState==goalState):\n",
    "        return [startState]\n",
    "        \n",
    "    #3. if not then ..check till unexpanded is not empty\n",
    "    while len(unExpanded)!=0:\n",
    "        #3.1. get the current state\n",
    "        currentState=unExpanded.pop()\n",
    "        state=currentState[0]\n",
    "        #3.2 get children of current state\n",
    "        childState=successorsf(state)\n",
    "        parent=state\n",
    "        #3.3 Put them in expanded dictionary\n",
    "        expanded[parent]=currentState[1]\n",
    "      \n",
    "        #3.4 To avoid circular path we delete state if present in expanded or unexpanded\n",
    "        for i,j in unExpanded:\n",
    "            for var in childState:\n",
    "                if(i==var):    \n",
    "                    childState.remove(i)\n",
    "        for key,value in expanded.items():\n",
    "            for var in childState:\n",
    "                if key==var:\n",
    "                    childState.remove(key)      \n",
    "        \n",
    "        #3.5 If goal is found..then build path\n",
    "        if goalState in childState:\n",
    "            #5.1 Create a list of current state and goalstate\n",
    "            solutionPath=[state,goalState]\n",
    "            #5.2 Get parent of parent until we found root node and return solution\n",
    "            while parent:\n",
    "                for i in expanded.keys():\n",
    "                    if parent==i:\n",
    "                       # temp=expanded[i]        \n",
    "                        parent=expanded.get(i)\n",
    "                if(parent==None):\n",
    "                    continue\n",
    "                solutionPath.insert(0,parent)            \n",
    "             \n",
    "            return solutionPath\n",
    "        \n",
    "        #3.6 If goal is not found, reverse list of state in childre to make sure same solution path is generated as in grade.py\n",
    "        childState.reverse()\n",
    "        #3.7. Create list of (child , parent)\n",
    "        temp_list=[(x,parent) for x in childState]\n",
    "        #3.8 Check weather breadthFirst is True if so, put unexpanded at back of temp list\n",
    "        if breadthFirst == True:\n",
    "            unExpanded=temp_list + unExpanded \n",
    "        #3.9 Check weather DepthFirst is Flase if so, put unexpanded at fornt of temp list    \n",
    "        else:\n",
    "            unExpanded=unExpanded  + temp_list\n",
    "        #4.0 If there is no goal i.e unexpanded is 0\n",
    "        if(len(unExpanded)==0):\n",
    "            print(\"Goal Not found\")  "
   ]
  },
  {
   "cell_type": "markdown",
   "metadata": {},
   "source": [
    "Following two function call algo function with a boolean value breadthFirst either True for BFS or False for DFS"
   ]
  },
  {
   "cell_type": "code",
   "execution_count": 3,
   "metadata": {
    "collapsed": true
   },
   "outputs": [],
   "source": [
    "def breadthFirstSearch(startState, goalState, successorsf):\n",
    "    breadthFirst=True\n",
    "    solutionpath=algo(startState, goalState, successorsf,breadthFirst)\n",
    "    return solutionpath\n",
    "    "
   ]
  },
  {
   "cell_type": "code",
   "execution_count": 4,
   "metadata": {
    "collapsed": true
   },
   "outputs": [],
   "source": [
    "def depthFirstSearch(startState, goalState, successorsf):\n",
    "    breadthFirst=False\n",
    "    solutionpath=algo(startState, goalState, successorsf,breadthFirst)\n",
    "    return solutionpath"
   ]
  },
  {
   "cell_type": "markdown",
   "metadata": {},
   "source": [
    "# Example"
   ]
  },
  {
   "cell_type": "markdown",
   "metadata": {},
   "source": [
    "Here is a simple example.  States are defined by lower case letters.  A dictionary stores a list of successor states for each state in the graph that has successors."
   ]
  },
  {
   "cell_type": "code",
   "execution_count": 5,
   "metadata": {},
   "outputs": [
    {
     "data": {
      "text/plain": [
       "{'a': ['b', 'c', 'd'],\n",
       " 'b': ['e', 'f', 'g'],\n",
       " 'c': ['a', 'h', 'i'],\n",
       " 'd': ['j', 'z'],\n",
       " 'e': ['k', 'l'],\n",
       " 'g': ['m'],\n",
       " 'k': ['z']}"
      ]
     },
     "execution_count": 5,
     "metadata": {},
     "output_type": "execute_result"
    }
   ],
   "source": [
    "successors = {'a':  ['b', 'c', 'd'],\n",
    "              'b':  ['e', 'f', 'g'],\n",
    "              'c':  ['a', 'h', 'i'],\n",
    "              'd':  ['j', 'z'],\n",
    "              'e':  ['k', 'l'],\n",
    "              'g':  ['m'],\n",
    "              'k':  ['z']}\n",
    "successors"
   ]
  },
  {
   "cell_type": "markdown",
   "metadata": {},
   "source": [
    "Following fuction is successor function to get the possible child from a particulare state. I take state as argument which then match with key in dictionary and using .copy copies all values corresponding to key which is then return in form of list."
   ]
  },
  {
   "cell_type": "code",
   "execution_count": 6,
   "metadata": {
    "collapsed": true
   },
   "outputs": [],
   "source": [
    "def successorsf(state):\n",
    "    return copy.copy(successors.get(state, []))"
   ]
  },
  {
   "cell_type": "code",
   "execution_count": 7,
   "metadata": {},
   "outputs": [
    {
     "data": {
      "text/plain": [
       "['k', 'l']"
      ]
     },
     "execution_count": 7,
     "metadata": {},
     "output_type": "execute_result"
    }
   ],
   "source": [
    "successorsf('e')"
   ]
  },
  {
   "cell_type": "markdown",
   "metadata": {},
   "source": [
    "Let's get time required for each pass of BFS and DFS. To do this, I used time package and calculated time required to reach goal state."
   ]
  },
  {
   "cell_type": "code",
   "execution_count": 8,
   "metadata": {},
   "outputs": [
    {
     "name": "stdout",
     "output_type": "stream",
     "text": [
      "Breadth-first\n",
      "path from a to a is ['a']\n",
      "path from a to m is ['a', 'b', 'g', 'm']\n",
      "path from a to z is ['a', 'd', 'z']\n"
     ]
    }
   ],
   "source": [
    "print('Breadth-first')\n",
    "start = time.clock()\n",
    "print('path from a to a is', breadthFirstSearch('a', 'a', successorsf))\n",
    "timebfs_a= (time.clock() - start)\n",
    "start = time.clock()\n",
    "print('path from a to m is', breadthFirstSearch('a', 'm', successorsf))\n",
    "timebfs1_a_m= (time.clock() - start)\n",
    "start = time.clock()\n",
    "print('path from a to z is', breadthFirstSearch('a', 'z', successorsf))\n",
    "timebfs2_a_z= (time.clock() - start)\n"
   ]
  },
  {
   "cell_type": "code",
   "execution_count": 9,
   "metadata": {},
   "outputs": [
    {
     "name": "stdout",
     "output_type": "stream",
     "text": [
      "Depth-first\n",
      "path from a to a is ['a']\n",
      "path from a to m is ['a', 'b', 'g', 'm']\n",
      "path from a to z is ['a', 'b', 'e', 'k', 'z']\n"
     ]
    }
   ],
   "source": [
    "print('Depth-first')\n",
    "start = time.clock()\n",
    "print('path from a to a is', depthFirstSearch('a', 'a', successorsf))\n",
    "timedfs_a= (time.clock() - start)\n",
    "start = time.clock()\n",
    "print('path from a to m is', depthFirstSearch('a', 'm', successorsf))\n",
    "timedfs_a_m= (time.clock() - start)\n",
    "start = time.clock()\n",
    "\n",
    "print('path from a to z is', depthFirstSearch('a', 'z', successorsf))\n",
    "timedfs_a_z= (time.clock() - start)"
   ]
  },
  {
   "cell_type": "markdown",
   "metadata": {},
   "source": [
    "Following code, make a list of time in seconds and print that."
   ]
  },
  {
   "cell_type": "code",
   "execution_count": 10,
   "metadata": {},
   "outputs": [
    {
     "name": "stdout",
     "output_type": "stream",
     "text": [
      "[21.787031071478722, 28.27182190431715, 22.720094500664107]\n",
      "[21.973643757315642, 29.251538504961733, 25.14605941654549]\n"
     ]
    }
   ],
   "source": [
    "bfs_time=[timebfs_a*100000,timebfs1_a_m*100000,timebfs2_a_z*100000]\n",
    "dfs_time=[timedfs_a*100000,timedfs_a_m*100000,timedfs_a_z*100000]\n",
    "print(bfs_time)\n",
    "print(dfs_time)"
   ]
  },
  {
   "cell_type": "markdown",
   "metadata": {},
   "source": [
    "Now, we have list of time taken by BFS and DFS for particular example shown above. Lets, plot the graph using matplotlib."
   ]
  },
  {
   "cell_type": "code",
   "execution_count": 11,
   "metadata": {},
   "outputs": [
    {
     "data": {
      "image/png": "[encoded data removed]",
      "text/plain": [
       "<matplotlib.figure.Figure at 0x2373341f160>"
      ]
     },
     "metadata": {},
     "output_type": "display_data"
    }
   ],
   "source": [
    "a = bfs_time\n",
    "b = dfs_time\n",
    "n=('a','b') #make tuple to pass in plot func\n",
    "plt.xlabel(' ',fontsize=20)\n",
    "plt.title('Time Taken by BFS and DFS')\n",
    "plt.ylabel('Time Taken',fontsize=14)\n",
    "plt.plot(a,'o-',label='BFS') # plotting a separately \n",
    "plt.plot(b,'or-',label='DFS') # plotting b separately\n",
    "plt.legend()\n",
    "plt.show()"
   ]
  },
  {
   "cell_type": "markdown",
   "metadata": {},
   "source": [
    "From, the above graph it clearly shows that BFS is faster in terms of time. But it's not always. For example, if the goal node is present at 100th node then BFS will take more time as it will go on checking each node at each level.\n",
    "Note: This graph may get changed as we run this notebook again."
   ]
  },
  {
   "cell_type": "markdown",
   "metadata": {},
   "source": [
    "Let's try a navigation problem around a grid of size 10 x 10."
   ]
  },
  {
   "cell_type": "markdown",
   "metadata": {},
   "source": [
    "Following fuction take the input state and returns all possible states."
   ]
  },
  {
   "cell_type": "code",
   "execution_count": 12,
   "metadata": {
    "collapsed": true
   },
   "outputs": [],
   "source": [
    "def gridSuccessors(state):\n",
    "    row, col = state\n",
    "    # succs will be list of tuples () rather than list of lists [] because state must\n",
    "    # be an immutable type to serve as a key in dictionary of expanded nodes\n",
    "    succs = []\n",
    "    for r in [-1, 0, 1]:   #check each row\n",
    "        for c in [-1, 0, 1]:  # check in each col\n",
    "            newr = row + r\n",
    "            newc = col + c\n",
    "            if 0 <= newr <= 9 and 0 <= newc <= 9:  \n",
    "                succs.append( (newr, newc) )\n",
    "    return succs"
   ]
  },
  {
   "cell_type": "code",
   "execution_count": 13,
   "metadata": {},
   "outputs": [
    {
     "data": {
      "text/plain": [
       "[(2, 3), (2, 4), (2, 5), (3, 3), (3, 4), (3, 5), (4, 3), (4, 4), (4, 5)]"
      ]
     },
     "execution_count": 13,
     "metadata": {},
     "output_type": "execute_result"
    }
   ],
   "source": [
    "gridSuccessors([3,4])"
   ]
  },
  {
   "cell_type": "code",
   "execution_count": 14,
   "metadata": {},
   "outputs": [
    {
     "data": {
      "text/plain": [
       "[(2, 8), (2, 9), (3, 8), (3, 9), (4, 8), (4, 9)]"
      ]
     },
     "execution_count": 14,
     "metadata": {},
     "output_type": "execute_result"
    }
   ],
   "source": [
    "gridSuccessors([3,9])"
   ]
  },
  {
   "cell_type": "code",
   "execution_count": 15,
   "metadata": {},
   "outputs": [
    {
     "data": {
      "text/plain": [
       "[(0, 0), (0, 1), (1, 0), (1, 1)]"
      ]
     },
     "execution_count": 15,
     "metadata": {},
     "output_type": "execute_result"
    }
   ],
   "source": [
    "gridSuccessors([0,0])"
   ]
  },
  {
   "cell_type": "code",
   "execution_count": 16,
   "metadata": {},
   "outputs": [
    {
     "name": "stdout",
     "output_type": "stream",
     "text": [
      "Breadth-first\n",
      "path from (0, 0) to (9, 9) is [(0, 0), (1, 1), (2, 2), (3, 3), (4, 4), (5, 5), (6, 6), (7, 7), (8, 8), (9, 9)]\n"
     ]
    }
   ],
   "source": [
    "print('Breadth-first')\n",
    "print('path from (0, 0) to (9, 9) is', breadthFirstSearch((0, 0), (9, 9), gridSuccessors))\n"
   ]
  },
  {
   "cell_type": "code",
   "execution_count": 17,
   "metadata": {},
   "outputs": [
    {
     "name": "stdout",
     "output_type": "stream",
     "text": [
      "Depth-first\n",
      "path from (0, 0) to (9, 9) is [(0, 0), (0, 1), (0, 2), (0, 3), (0, 4), (0, 5), (0, 6), (0, 7), (0, 8), (1, 9), (2, 8), (2, 7), (2, 6), (2, 5), (2, 4), (2, 3), (2, 2), (2, 1), (3, 0), (4, 0), (5, 0), (6, 0), (7, 0), (8, 0), (9, 1), (8, 2), (7, 2), (6, 2), (5, 2), (4, 3), (4, 4), (4, 5), (4, 6), (4, 7), (4, 8), (5, 9), (6, 8), (6, 7), (6, 6), (6, 5), (7, 4), (8, 4), (9, 5), (8, 6), (8, 7), (8, 8), (9, 9)]\n"
     ]
    }
   ],
   "source": [
    "print('Depth-first')\n",
    "print('path from (0, 0) to (9, 9) is', depthFirstSearch((0, 0), (9, 9), gridSuccessors))\n"
   ]
  },
  {
   "cell_type": "markdown",
   "metadata": {},
   "source": [
    " Let's plot it the path"
   ]
  },
  {
   "cell_type": "code",
   "execution_count": 18,
   "metadata": {},
   "outputs": [
    {
     "data": {
      "text/plain": [
       "[(0, 0),\n",
       " (0, 1),\n",
       " (0, 2),\n",
       " (0, 3),\n",
       " (0, 4),\n",
       " (0, 5),\n",
       " (0, 6),\n",
       " (0, 7),\n",
       " (0, 8),\n",
       " (1, 9),\n",
       " (2, 8),\n",
       " (2, 7),\n",
       " (2, 6),\n",
       " (2, 5),\n",
       " (2, 4),\n",
       " (2, 3),\n",
       " (2, 2),\n",
       " (2, 1),\n",
       " (3, 0),\n",
       " (4, 0),\n",
       " (5, 0),\n",
       " (6, 0),\n",
       " (7, 0),\n",
       " (8, 0),\n",
       " (9, 1),\n",
       " (8, 2),\n",
       " (7, 2),\n",
       " (6, 2),\n",
       " (5, 2),\n",
       " (4, 3),\n",
       " (4, 4),\n",
       " (4, 5),\n",
       " (4, 6),\n",
       " (4, 7),\n",
       " (4, 8),\n",
       " (5, 9),\n",
       " (6, 8),\n",
       " (6, 7),\n",
       " (6, 6),\n",
       " (6, 5),\n",
       " (7, 4),\n",
       " (8, 4),\n",
       " (9, 5),\n",
       " (8, 6),\n",
       " (8, 7),\n",
       " (8, 8),\n",
       " (9, 9)]"
      ]
     },
     "execution_count": 18,
     "metadata": {},
     "output_type": "execute_result"
    }
   ],
   "source": [
    "path = depthFirstSearch((0, 0), (9, 9), gridSuccessors)\n",
    "path"
   ]
  },
  {
   "cell_type": "markdown",
   "metadata": {},
   "source": [
    "Now, we have the path to goal state. In bellow code, we first put all x value i.t 0th index in one list and y values of tuple in seperate two list so that we can get plot actual moves."
   ]
  },
  {
   "cell_type": "code",
   "execution_count": 19,
   "metadata": {
    "scrolled": false
   },
   "outputs": [
    {
     "data": {
      "image/png": "[encoded data removed]",
      "text/plain": [
       "<matplotlib.figure.Figure at 0x237338ad048>"
      ]
     },
     "metadata": {},
     "output_type": "display_data"
    }
   ],
   "source": [
    "rows = [location[0] for location in path]\n",
    "cols = [location[1] for location in path]\n",
    "plt.plot(rows,cols,'o-');"
   ]
  },
  {
   "cell_type": "code",
   "execution_count": 20,
   "metadata": {},
   "outputs": [
    {
     "data": {
      "text/plain": [
       "[(0, 0),\n",
       " (1, 1),\n",
       " (2, 2),\n",
       " (3, 3),\n",
       " (4, 4),\n",
       " (5, 5),\n",
       " (6, 6),\n",
       " (7, 7),\n",
       " (8, 8),\n",
       " (9, 9)]"
      ]
     },
     "execution_count": 20,
     "metadata": {},
     "output_type": "execute_result"
    }
   ],
   "source": [
    "path = breadthFirstSearch((0, 0), (9, 9), gridSuccessors)\n",
    "path"
   ]
  },
  {
   "cell_type": "markdown",
   "metadata": {},
   "source": [
    "Now, we have the path to goal state. In bellow code, we first put all x value i.t 0th index in one list and y values of tuple in seperate two list so that we can get plot actual moves."
   ]
  },
  {
   "cell_type": "code",
   "execution_count": 21,
   "metadata": {
    "scrolled": true
   },
   "outputs": [
    {
     "data": {
      "image/png": "[encoded data removed]",
      "text/plain": [
       "<matplotlib.figure.Figure at 0x23733882c88>"
      ]
     },
     "metadata": {},
     "output_type": "display_data"
    }
   ],
   "source": [
    "rows = [location[0] for location in path]\n",
    "cols = [location[1] for location in path]\n",
    "plt.plot(rows,cols,'o-');"
   ]
  },
  {
   "cell_type": "markdown",
   "metadata": {},
   "source": [
    " By looking at the both graph for 8-puzzle game, DFS finds the solution with lesser number of moves in that case, the goal state is far below ( in terms of levels in graph ). Also, this can also sometime delays DFS algorithm. To avoid this kind of situation  limited search algorithms are used."
   ]
  },
  {
   "cell_type": "code",
   "execution_count": 22,
   "metadata": {},
   "outputs": [
    {
     "name": "stdout",
     "output_type": "stream",
     "text": [
      "Goal Not found\n"
     ]
    }
   ],
   "source": [
    "depthFirstSearch((0, 0), (9, 20), gridSuccessors)"
   ]
  },
  {
   "cell_type": "markdown",
   "metadata": {},
   "source": [
    "# Extra Credit\n",
    "\n",
    "I used both the function to solve the Camels Puzzle, described at [Logic Puzzles](http://www.folj.com/puzzles/).\n"
   ]
  },
  {
   "cell_type": "markdown",
   "metadata": {},
   "source": [
    "To do that, we need to get child of each states. Following function calculates the move accoriding to rules specified in above link. Firstly, calculate the index of blank i.e ' ' and then we match patterns of  previous and it's previous position of camel with reference of ' ' and vice versa."
   ]
  },
  {
   "cell_type": "code",
   "execution_count": 23,
   "metadata": {
    "collapsed": true
   },
   "outputs": [],
   "source": [
    "def move_L(state,index,index_f):\n",
    "    #print(\"moving L\")\n",
    "    lst = list(state)\n",
    "    lst[index+1] = ' '\n",
    "    temp=state[index+1]\n",
    "    lst[index] = temp\n",
    "    t = tuple(lst)\n",
    "    return t\n",
    "    \n",
    "def move_L(state,index,index_f):\n",
    "    #print(\"moving L\")\n",
    "    lst = list(state)\n",
    "    lst[index+1] = ' '\n",
    "    temp=state[index+1]\n",
    "    lst[index] = temp\n",
    "    t = tuple(lst)\n",
    "    return t   \n",
    "    \n",
    "    \n",
    "def move_R(state,index,index_f):\n",
    "   # print(\"moving L\")\n",
    "    lst = list(state)\n",
    "    lst[index-1] = ' '\n",
    "    temp=state[index-1]\n",
    "    lst[index] = temp\n",
    "    t = tuple(lst)\n",
    "    return t\n",
    "\n",
    "def jump_L(state,index,index_ff):\n",
    "   # print(\"Jumping L\")\n",
    "    lst = list(state)\n",
    "    lst[index_ff] = ' '\n",
    "    temp=state[index_ff]\n",
    "    lst[index] = temp\n",
    "    t = tuple(lst)\n",
    "    return t\n",
    "\n",
    "def jump_R(state,index,index_bb):\n",
    "   # print(\"Jumping L\")\n",
    "    lst = list(state)\n",
    "    lst[index_bb] = ' '\n",
    "    temp=state[index_bb]\n",
    "    lst[index] = temp\n",
    "    t = tuple(lst)\n",
    "    return t  \n",
    "    \n",
    "    \n",
    "def move_R(state,index,index_f):\n",
    "   # print(\"moving L\")\n",
    "    lst = list(state)\n",
    "    lst[index-1] = ' '\n",
    "    temp=state[index-1]\n",
    "    lst[index] = temp\n",
    "    t = tuple(lst)\n",
    "    return t\n",
    "\n",
    "def jump_L(state,index,index_ff):\n",
    "   # print(\"Jumping L\")\n",
    "    lst = list(state)\n",
    "    lst[index_ff] = ' '\n",
    "    temp=state[index_ff]\n",
    "    lst[index] = temp\n",
    "    t = tuple(lst)\n",
    "    return t\n",
    "\n",
    "def jump_R(state,index,index_bb):\n",
    "   # print(\"Jumping L\")\n",
    "    lst = list(state)\n",
    "    lst[index_bb] = ' '\n",
    "    temp=state[index_bb]\n",
    "    lst[index] = temp\n",
    "    t = tuple(lst)\n",
    "    return t"
   ]
  },
  {
   "cell_type": "code",
   "execution_count": 24,
   "metadata": {
    "collapsed": true
   },
   "outputs": [],
   "source": [
    "def camelSuccessorsf(state):\n",
    "    final=[]\n",
    "    if(' ' in state ):\n",
    "            #getting index of blank and its corresponding indexes\n",
    "            index=state.index(' ')\n",
    "            index_f= index+1\n",
    "            index_ff=index+2\n",
    "            index_b=index-1\n",
    "            index_bb=index-2\n",
    "            # conditions to handle ('R','R','R','R','L','L','L','L',' ')\n",
    "            if(index==8 ):\n",
    "                index_f=index\n",
    "                index_ff=index\n",
    "            # conditions to handle (' ','R','R','R','L','L','L','L','R')\n",
    "            elif(index==0):\n",
    "                index_bb=index\n",
    "                index_b=index\n",
    "            # conditions to handle ('R','R','R','R','L','L','L',' ','L')    \n",
    "            elif(index==7 and state[index_f]=='L' ):\n",
    "                index_ff=index+1\n",
    "            # conditions to handle ('R','R','R','R','L','L','L',' ','R')  \n",
    "            elif(index==7 and state[index_f]=='R' ):\n",
    "                index_ff=index+1\n",
    "            # conditions to handle ('R',' ','R','R','L','L','L','L','R')  \n",
    "            elif(index==1 and index_b=='R'):\n",
    "                index_bb=index-1\n",
    "            \n",
    "            \n",
    "            # once condition  are checked.. time to move camels\n",
    "             # conditions to handle ('R','R','R','R',' ','L','L','L','L')  \n",
    "            if(state[index_f]=='L' and state[index_ff]=='L'):\n",
    "                t=move_L(state,index,index_f)\n",
    "                final.append((t))\n",
    "            # conditions to handle ('R','R','R','R',' ','L','L','L','L') \n",
    "            if(state[index_b]=='R' and state[index_bb]=='R'):\n",
    "                t1=move_R(state,index,index_f)\n",
    "                final.append((t1))\n",
    "            # conditions to handle ('R','R','R','L',' ','R','L','L','L') \n",
    "            if(state[index_f]=='R' and state[index_ff]=='L'):\n",
    "                t3=jump_L(state,index,index_ff)\n",
    "                final.append((t3))\n",
    "            # conditions to handle ('R','R','R','L',' ','R','L','L','L') \n",
    "            if(state[index_b]=='L' and state[index_bb]=='R'):\n",
    "                t4=jump_R(state,index,index_bb)\n",
    "                final.append((t4))\n",
    "            # conditions to handle ('R','R','R','L',' ','L','R','L','L') \n",
    "            if(state[index_f]=='L' and state[index_ff]=='R'):\n",
    "                t5=move_L(state,index,index_bb)\n",
    "                final.append((t5))\n",
    "            # conditions to handle ('R','R','L','R',' ','R','L','L','L') \n",
    "            if(state[index_b]=='R' and state[index_bb]=='L'):\n",
    "                t6=move_R(state,index,index_bb)\n",
    "                final.append((t6))\n",
    "            # conditions to handle (' ','R','R','L','R','R','L','L','L') &\n",
    "            # conditions to handle ('R','R','R','L','R','R','L','L',' ')\n",
    "            if(state[0]==' ' or state[8]==' '):\n",
    "                return final\n",
    "            if(index==8 or index==0):\n",
    "                return final\n",
    "    return(final)"
   ]
  },
  {
   "cell_type": "code",
   "execution_count": 25,
   "metadata": {
    "collapsed": true
   },
   "outputs": [],
   "source": [
    "camelStartState=('R', 'R', 'R', 'R', ' ', 'L', 'L', 'L', 'L')"
   ]
  },
  {
   "cell_type": "code",
   "execution_count": 26,
   "metadata": {
    "collapsed": true
   },
   "outputs": [],
   "source": [
    "camelGoalState=('L', 'L', 'L', 'L', ' ', 'R', 'R', 'R', 'R')"
   ]
  },
  {
   "cell_type": "code",
   "execution_count": 27,
   "metadata": {},
   "outputs": [
    {
     "data": {
      "text/plain": [
       "[('R', 'R', 'R', 'R', 'L', ' ', 'L', 'L', 'L'),\n",
       " ('R', 'R', 'R', ' ', 'R', 'L', 'L', 'L', 'L')]"
      ]
     },
     "execution_count": 27,
     "metadata": {},
     "output_type": "execute_result"
    }
   ],
   "source": [
    "camelSuccessorsf(camelStartState)"
   ]
  },
  {
   "cell_type": "code",
   "execution_count": 28,
   "metadata": {},
   "outputs": [
    {
     "name": "stdout",
     "output_type": "stream",
     "text": [
      "('R', 'R', 'R', 'R', 'L', ' ', 'L', 'L', 'L')\n"
     ]
    },
    {
     "data": {
      "text/plain": [
       "[('R', 'R', 'R', 'R', 'L', 'L', ' ', 'L', 'L'),\n",
       " ('R', 'R', 'R', ' ', 'L', 'R', 'L', 'L', 'L')]"
      ]
     },
     "execution_count": 28,
     "metadata": {},
     "output_type": "execute_result"
    }
   ],
   "source": [
    "children = camelSuccessorsf(camelStartState)\n",
    "print(children[0])\n",
    "camelSuccessorsf(children[0])"
   ]
  },
  {
   "cell_type": "markdown",
   "metadata": {},
   "source": [
    "Let us now print the solution by calling bfs and printing each of values in solution path."
   ]
  },
  {
   "cell_type": "code",
   "execution_count": 29,
   "metadata": {
    "scrolled": true
   },
   "outputs": [
    {
     "name": "stdout",
     "output_type": "stream",
     "text": [
      "Breadth-first solution: ( 25 steps)\n",
      "('R', 'R', 'R', 'R', ' ', 'L', 'L', 'L', 'L')\n",
      "('R', 'R', 'R', 'R', 'L', ' ', 'L', 'L', 'L')\n",
      "('R', 'R', 'R', ' ', 'L', 'R', 'L', 'L', 'L')\n",
      "('R', 'R', ' ', 'R', 'L', 'R', 'L', 'L', 'L')\n",
      "('R', 'R', 'L', 'R', ' ', 'R', 'L', 'L', 'L')\n",
      "('R', 'R', 'L', 'R', 'L', 'R', ' ', 'L', 'L')\n",
      "('R', 'R', 'L', 'R', 'L', 'R', 'L', ' ', 'L')\n",
      "('R', 'R', 'L', 'R', 'L', ' ', 'L', 'R', 'L')\n",
      "('R', 'R', 'L', ' ', 'L', 'R', 'L', 'R', 'L')\n",
      "('R', ' ', 'L', 'R', 'L', 'R', 'L', 'R', 'L')\n",
      "(' ', 'R', 'L', 'R', 'L', 'R', 'L', 'R', 'L')\n",
      "('L', 'R', ' ', 'R', 'L', 'R', 'L', 'R', 'L')\n",
      "('L', 'R', 'L', 'R', ' ', 'R', 'L', 'R', 'L')\n",
      "('L', 'R', 'L', 'R', 'L', 'R', ' ', 'R', 'L')\n",
      "('L', 'R', 'L', 'R', 'L', 'R', 'L', 'R', ' ')\n",
      "('L', 'R', 'L', 'R', 'L', 'R', 'L', ' ', 'R')\n",
      "('L', 'R', 'L', 'R', 'L', ' ', 'L', 'R', 'R')\n",
      "('L', 'R', 'L', ' ', 'L', 'R', 'L', 'R', 'R')\n",
      "('L', ' ', 'L', 'R', 'L', 'R', 'L', 'R', 'R')\n",
      "('L', 'L', ' ', 'R', 'L', 'R', 'L', 'R', 'R')\n",
      "('L', 'L', 'L', 'R', ' ', 'R', 'L', 'R', 'R')\n",
      "('L', 'L', 'L', 'R', 'L', 'R', ' ', 'R', 'R')\n",
      "('L', 'L', 'L', 'R', 'L', ' ', 'R', 'R', 'R')\n",
      "('L', 'L', 'L', ' ', 'L', 'R', 'R', 'R', 'R')\n",
      "('L', 'L', 'L', 'L', ' ', 'R', 'R', 'R', 'R')\n",
      "Depth-first solution: ( 25 steps)\n",
      "('R', 'R', 'R', 'R', ' ', 'L', 'L', 'L', 'L')\n",
      "('R', 'R', 'R', 'R', 'L', ' ', 'L', 'L', 'L')\n",
      "('R', 'R', 'R', ' ', 'L', 'R', 'L', 'L', 'L')\n",
      "('R', 'R', ' ', 'R', 'L', 'R', 'L', 'L', 'L')\n",
      "('R', 'R', 'L', 'R', ' ', 'R', 'L', 'L', 'L')\n",
      "('R', 'R', 'L', 'R', 'L', 'R', ' ', 'L', 'L')\n",
      "('R', 'R', 'L', 'R', 'L', 'R', 'L', ' ', 'L')\n",
      "('R', 'R', 'L', 'R', 'L', ' ', 'L', 'R', 'L')\n",
      "('R', 'R', 'L', ' ', 'L', 'R', 'L', 'R', 'L')\n",
      "('R', ' ', 'L', 'R', 'L', 'R', 'L', 'R', 'L')\n",
      "(' ', 'R', 'L', 'R', 'L', 'R', 'L', 'R', 'L')\n",
      "('L', 'R', ' ', 'R', 'L', 'R', 'L', 'R', 'L')\n",
      "('L', 'R', 'L', 'R', ' ', 'R', 'L', 'R', 'L')\n",
      "('L', 'R', 'L', 'R', 'L', 'R', ' ', 'R', 'L')\n",
      "('L', 'R', 'L', 'R', 'L', 'R', 'L', 'R', ' ')\n",
      "('L', 'R', 'L', 'R', 'L', 'R', 'L', ' ', 'R')\n",
      "('L', 'R', 'L', 'R', 'L', ' ', 'L', 'R', 'R')\n",
      "('L', 'R', 'L', ' ', 'L', 'R', 'L', 'R', 'R')\n",
      "('L', ' ', 'L', 'R', 'L', 'R', 'L', 'R', 'R')\n",
      "('L', 'L', ' ', 'R', 'L', 'R', 'L', 'R', 'R')\n",
      "('L', 'L', 'L', 'R', ' ', 'R', 'L', 'R', 'R')\n",
      "('L', 'L', 'L', 'R', 'L', 'R', ' ', 'R', 'R')\n",
      "('L', 'L', 'L', 'R', 'L', ' ', 'R', 'R', 'R')\n",
      "('L', 'L', 'L', ' ', 'L', 'R', 'R', 'R', 'R')\n",
      "('L', 'L', 'L', 'L', ' ', 'R', 'R', 'R', 'R')\n"
     ]
    }
   ],
   "source": [
    "bfs = breadthFirstSearch(camelStartState, camelGoalState, camelSuccessorsf)\n",
    "print('Breadth-first solution: (', len(bfs), 'steps)')\n",
    "for s in bfs:\n",
    "    print(s)\n",
    "    \n",
    "dfs = depthFirstSearch(camelStartState, camelGoalState, camelSuccessorsf)\n",
    "print('Depth-first solution: (', len(dfs), 'steps)')\n",
    "for s in dfs:\n",
    "    print(s)\n",
    "\n"
   ]
  },
  {
   "cell_type": "code",
   "execution_count": 30,
   "metadata": {
    "collapsed": true
   },
   "outputs": [],
   "source": [
    "path = breadthFirstSearch(camelStartState,camelGoalState , camelSuccessorsf)"
   ]
  },
  {
   "cell_type": "markdown",
   "metadata": {},
   "source": [
    "In below cell, I plot the solution for a problem which is dynamic graph showing moves at x-axis."
   ]
  },
  {
   "cell_type": "code",
   "execution_count": 31,
   "metadata": {},
   "outputs": [
    {
     "data": {
      "image/png": "[encoded data removed]",
      "text/plain": [
       "<matplotlib.figure.Figure at 0x23733968b00>"
      ]
     },
     "metadata": {},
     "output_type": "display_data"
    },
    {
     "data": {
      "image/png": "[encoded data removed]",
      "text/plain": [
       "<matplotlib.figure.Figure at 0x23733968b00>"
      ]
     },
     "metadata": {},
     "output_type": "display_data"
    }
   ],
   "source": [
    "\n",
    "for i in range(0,len(bfs)):\n",
    "    x = range(0,9)\n",
    "    z=range(0,26)\n",
    "    #plt.plot(x)\n",
    "    pylab.xticks(x, path[i])\n",
    "    ax = pylab.gca()\n",
    "    ax.yaxis.set_visible(False)\n",
    "    pylab.plot(x,' ')\n",
    "    # Pad margins so that markers don't get clipped by the axes\n",
    "    plt.margins(0.05)\n",
    "    # Tweak spacing to prevent clipping of tick-labels\n",
    "    plt.subplots_adjust(bottom=0.60)\n",
    "    i=i+1 #increment i value to get actual move count\n",
    "    plt.xlabel('MOVE %d' %i,fontsize=20)\n",
    "    # plt.ylabel('Number of Steps',fontsize=20)\n",
    "    display.clear_output(wait=True)\n",
    "    display.display(pl.gcf())    \n",
    "    time.sleep(2.0)\n",
    "    "
   ]
  },
  {
   "cell_type": "markdown",
   "metadata": {},
   "source": [
    "* Problems :\n",
    "* While solving extra credit,because of confusing camels moves it took time to find pattern and debug where I went wrong. Later, I made modular code which inturn help to skip debugging some part of code\n",
    "\n",
    " "
   ]
  },
  {
   "cell_type": "code",
   "execution_count": 32,
   "metadata": {},
   "outputs": [
    {
     "name": "stdout",
     "output_type": "stream",
     "text": [
      "Searching this graph:\n",
      " {'a': ['b'], 'b': ['c', 'd'], 'c': ['e'], 'd': ['f', 'i'], 'e': ['g', 'h', 'i']}\n",
      "Looking for path from a to b.\n",
      "20/20 points. Your breadthFirstSearch found correct solution path of ['a', 'b']\n",
      "20/20 points. Your depthFirstSearch found correct solution path of ['a', 'b']\n",
      "Looking for path from a to i.\n",
      "20/20 points. Your breadthFirstSearch found correct solution path of ['a', 'b', 'd', 'i']\n",
      "20/20 points. Your depthFirstSearch found correct solution path of ['a', 'b', 'c', 'e', 'i']\n",
      "\n",
      "C:\\Users\\waradepratik Grade is 80/100\n",
      "Up to 20 more points will be given based on the qualty of your descriptions of the method and the results.\n"
     ]
    },
    {
     "data": {
      "text/plain": [
       "<matplotlib.figure.Figure at 0x237339c14a8>"
      ]
     },
     "metadata": {},
     "output_type": "display_data"
    }
   ],
   "source": [
    "%run -i A1grader.py"
   ]
  },
  {
   "cell_type": "code",
   "execution_count": 33,
   "metadata": {
    "collapsed": true
   },
   "outputs": [],
   "source": [
    "successors = {'d': ['y'], 'b': ['a'], 'a': ['b', 'z', 'd'], 'e': ['z'], 'y': ['z']}\n"
   ]
  },
  {
   "cell_type": "code",
   "execution_count": 34,
   "metadata": {},
   "outputs": [
    {
     "name": "stdout",
     "output_type": "stream",
     "text": [
      "path from a to a is ['a', 'd', 'y']\n",
      "path from a to a is ['a', 'd', 'y']\n"
     ]
    }
   ],
   "source": [
    "\n",
    "print('path from a to a is', breadthFirstSearch('a', 'y', successorsf))\n",
    "print('path from a to a is', depthFirstSearch('a', 'y', successorsf))"
   ]
  },
  {
   "cell_type": "code",
   "execution_count": null,
   "metadata": {
    "collapsed": true
   },
   "outputs": [],
   "source": []
  }
 ],
 "metadata": {
  "anaconda-cloud": {},
  "kernelspec": {
   "display_name": "Python 3",
   "language": "python",
   "name": "python3"
  },
  "language_info": {
   "codemirror_mode": {
    "name": "ipython",
    "version": 3
   },
   "file_extension": ".py",
   "mimetype": "text/x-python",
   "name": "python",
   "nbconvert_exporter": "python",
   "pygments_lexer": "ipython3",
   "version": "3.6.4"
  }
 },
 "nbformat": 4,
 "nbformat_minor": 1
}
