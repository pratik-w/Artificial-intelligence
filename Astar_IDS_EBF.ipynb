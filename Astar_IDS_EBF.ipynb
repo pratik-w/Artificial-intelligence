{
 "cells": [
  {
   "cell_type": "markdown",
   "metadata": {},
   "source": [
    "Name : *pratik Warade *"
   ]
  },
  {
   "cell_type": "markdown",
   "metadata": {},
   "source": [
    "#          A3: A*, IDS, and Effective Branching Factor"
   ]
  },
  {
   "cell_type": "markdown",
   "metadata": {},
   "source": [
    "### OVERVIEW\n",
    "In this assignment, I have implemented Recursive Best-First Search A* algorithm  and applied it to \" simple sample graph \" and \"  8 sliding Puzzle \" problem ."
   ]
  },
  {
   "cell_type": "markdown",
   "metadata": {},
   "source": [
    "## Understanding Of Algorithms"
   ]
  },
  {
   "cell_type": "markdown",
   "metadata": {},
   "source": [
    "\n",
    "\n",
    "#####  What is informed Search?\n",
    "This type of search strategy is more advanced than uninformed search. It is also known as ‘heuristic search’. This strategy has the ability to determine whether a non-goal state is much better than another non-goal state in arriving at the goal state effectively and efficiently, thus it uses heuristics based information on top of the information provided by the problem definition about the states in the state space."
   ]
  },
  {
   "cell_type": "markdown",
   "metadata": {},
   "source": [
    "### Recursive Best-First Search A* algorithm  :\n",
    "In Best-First Search A* algorithm  has a different relationship with the evaluation function and the heuristic function when compared to afore explained ‘greedy best-first search’. Here the evaluation function (f(n)) is defined as the combination of cost to reach the node (g(n)) and the cost to each node from the goal node (h(n)).\n",
    "  \n",
    "                                        f(n) = g(n) + h(n)\n",
    "\n",
    "Therefore, this search strategy not only uses the heuristic function which consists of distances to each node from the goal node (h(n)) but also uses the path cost (so far travelled cost) from start node to the node in concern (g(n)) in the evaluation. This appears to be a better heuristic which uses the cue that the distance travelled should be minimized along each possible path."
   ]
  },
  {
   "cell_type": "markdown",
   "metadata": {},
   "source": [
    "*Recursive Best-First Search A star algorithm  is a memory bounded search algorithm that always keeps track of second best node and the best node of its children. When no child that is better than second best node found, it recurs back to search the second best node. *"
   ]
  },
  {
   "cell_type": "markdown",
   "metadata": {},
   "source": [
    "Its space complexity is O(bd) where b is the branching factor and d is the\n",
    "maximum search depth.\n",
    "Its time complexity depends on the number of nodes generated thus depend on the\n",
    "description of the goal.\n",
    "It's complete, however, not guaranteed to be optimal. "
   ]
  },
  {
   "cell_type": "code",
   "execution_count": 1,
   "metadata": {
    "collapsed": true
   },
   "outputs": [],
   "source": [
    "# Recursive Best First Search \n",
    "#  Recursive Iterative Deepening form of A*, where depth is replaced by f(n)\n",
    "# From Chuck Anderson Notebook\n",
    "import matplotlib.pyplot as plt\n",
    "\n",
    "#GLOBAL VARIABLES\n",
    "nNodes_ids=0\n",
    "nNodes_a=0\n",
    "\n",
    "class Node:\n",
    "    def __init__(self, state, f=0, g=0 ,h=0):\n",
    "        self.state = state\n",
    "        self.f = f\n",
    "        self.g = g\n",
    "        self.h = h\n",
    "    def __repr__(self):\n",
    "        return \"Node(\" + repr(self.state) + \", f=\" + repr(self.f) + \\\n",
    "               \", g=\" + repr(self.g) + \", h=\" + repr(self.h) + \")\"\n",
    "\n",
    "def aStarSearch(startState, actionsF, takeActionF, goalTestF, hF):\n",
    "    h = hF(startState)\n",
    "    startNode = Node(state=startState, f=0+h, g=0, h=h)\n",
    "    return aStarSearchHelper(startNode, actionsF, takeActionF, goalTestF, hF, float('inf'))\n",
    "\n",
    "def aStarSearchHelper(parentNode, actionsF, takeActionF, goalTestF, hF, fmax):\n",
    "    if goalTestF(parentNode.state):\n",
    "        return ([parentNode.state], parentNode.g)\n",
    "    ## Construct list of children nodes with f, g, and h values\n",
    "    actions = actionsF(parentNode.state)    \n",
    "    if not actions:\n",
    "        return (\"failure\", float('inf'))\n",
    "    children = []\n",
    "    for action in actions:\n",
    "        global nNodes_a\n",
    "        nNodes_a=nNodes_a+1\n",
    "        (childState,stepCost) = takeActionF(parentNode.state, action)\n",
    "        h = hF(childState)\n",
    "        g = parentNode.g + stepCost\n",
    "        f = max(h+g, parentNode.f)\n",
    "        childNode = Node(state=childState, f=f, g=g, h=h)\n",
    "        children.append(childNode)\n",
    "    while True:\n",
    "        # find best child\n",
    "        children.sort(key = lambda n: n.f) # sort by f value\n",
    "        bestChild = children[0]\n",
    "        if bestChild.f > fmax or bestChild.f==float('inf'):\n",
    "            return (\"failure\",bestChild.f)\n",
    "        # next lowest f value\n",
    "        alternativef = children[1].f if len(children) > 1 else float('inf')\n",
    "        # expand best child, reassign its f value to be returned value\n",
    "        result,bestChild.f = aStarSearchHelper(bestChild, actionsF, takeActionF, goalTestF,\n",
    "                                            hF, min(fmax,alternativef))\n",
    "        if result is not \"failure\":               \n",
    "            result.insert(0,parentNode.state)      \n",
    "            return (result, bestChild.f)                      "
   ]
  },
  {
   "cell_type": "markdown",
   "metadata": {},
   "source": [
    "### Heuristic functions"
   ]
  },
  {
   "cell_type": "markdown",
   "metadata": {},
   "source": [
    "\n",
    "\n",
    "Heuristics is basically intuition. In short \" A quick way to estimate how close we are to the goal\". How close is a state to the goal..The heuristic function is based on the problem in concern. If the goal of a certain problem is finding the lowest distance path from one place to another, then the heuristic function is obviously the lowest distance from each node to the goal node. The problems in practice are not so simple and obvious most of the time. Therefore, it is essential to know some important aspects that should be considered when coming up with a good heuristic function to do the searching on that problem space. Some important pointers when designing a heuristic function are as follows.\n",
    "* It should never overestimate the true solution cost to the goal – For example, if the most feasible path to the goal node from the starting node costs ‘x’ no: of steps, then the heuristic function should not exceed that limit from any node for it to be a suitable heuristic function.\n",
    "\n",
    "    "
   ]
  },
  {
   "cell_type": "code",
   "execution_count": 2,
   "metadata": {
    "collapsed": true
   },
   "outputs": [],
   "source": [
    "def h1_8p(state, goal):\n",
    "    '''most easiest and worst predictor . Just return 0.''' \n",
    "    return 0\n",
    "\n",
    "\n",
    "def h2_8p(state, goal):\n",
    "    '''Returns   'Manhattan distance' cost from the startState  to the state.''' \n",
    "    start = findBlank_8p(state) # get blank (row,col) for start State\n",
    "    goal = findBlank_8p(goal)  # get blank (row,col) for goal State      \n",
    "    return manhattanDistance(start[0], start[1], goal[0], goal[1])\n",
    "\n",
    "def manhattanDistance(x1, y1, x2, y2):\n",
    "    '''Calculate  'Manhattan distance '''\n",
    "    start=abs(x2 - x1)\n",
    "    goal=abs(y2 - y1)\n",
    "    return (start+goal)\n",
    "\n",
    "\n",
    "def h3_8p(state, goal):\n",
    "    '''Number of misplaced tile. Blank tile is not counted as misplaced tile  '''\n",
    "    count=0\n",
    "    for val in range(0,len(state)): \n",
    "        if(state[val]==goal[val]):\n",
    "            continue\n",
    "        else:\n",
    "            count+=1          \n",
    "    #print(\"Count\" ,count)\n",
    "    return count-1"
   ]
  },
  {
   "cell_type": "markdown",
   "metadata": {},
   "source": [
    "#### Why H3_8p is  Admissible Heuristic ??\n",
    "\n",
    "he heuristic function h(n) is called admissible if h(n) is never\n",
    "larger than h'(n), namely h(n) is always less or equal to true\n",
    "cheapest cost from n to the goal. If the heuristic function, h always underestimates the true cost\n",
    "(h(n) is smaller than h'(n)), then Astar is guaranteed to find an\n",
    "optimal solution.\n",
    "  \n",
    "  \n",
    "Let h'(N)   be the cost of the optimal path from N to a goal node. The heuristic function h(N) is admissible if:  \n",
    "\n",
    "                                 0 ≤ h(N) ≤ h'(N)\n",
    "\n",
    "Explanation :   \n",
    "\n",
    "startState = [5,0,8,4,2,1,7,3,6]  \n",
    "\n",
    "GoalState= [1,2,3,4,5,6,7,8 0]\n",
    "\n",
    "For H3(N) = Number of misplaced tiles  = 6 which is admissabe according to above equation as it is less than optimal path to goal node"
   ]
  },
  {
   "cell_type": "markdown",
   "metadata": {},
   "source": [
    "### Effective Branching Factor"
   ]
  },
  {
   "cell_type": "markdown",
   "metadata": {},
   "source": [
    "\n",
    "One way to characterize the quality or efficiency of an heuristic is the effective branching factor b`*`.The quality of the heuristic mostly depends on the ‘effective branching factor’ value – Following is the definition for effective branching factor. If the total number of nodes generated by A* search for a problem space is N, and the solution tree depth is d, then the effective branching factor b is defined using the following equation\n",
    "    N + 1 = 1 + b + b2 + b3 + … … … … … … . + b^ d\n",
    "    \n",
    "    which can be written as :  N = ( 1- b^(d+1))/(1-b)\n",
    "    \n",
    "Using this an approximate solution for b can be obtained mathematically, which is called the effective branching factor."
   ]
  },
  {
   "cell_type": "code",
   "execution_count": 3,
   "metadata": {
    "collapsed": true
   },
   "outputs": [],
   "source": [
    "def ebfpoly(b,depth):\n",
    "    #calculate N\n",
    "    power=b**(depth+1)\n",
    "    if b==1:  \n",
    "        evala=1\n",
    "    else:\n",
    "        evala=(1-power)/(1-b)\n",
    "    return evala    \n",
    "    \n",
    "def ebf(nNodes,depth,precision=0.001):\n",
    "    #check weather depth is greather than number of nodes.\n",
    "    if(depth>nNodes):\n",
    "        fail= print(\"Depth Cannot be larger than number of Node..Retry again \")\n",
    "        return fail\n",
    "    #set binary tree upper=nNodes and lower bound=0\n",
    "    binaryTree_low=0.0\n",
    "    binaryTree_high=nNodes   \n",
    "    cnt=0\n",
    "    #calculate value of N from tmp b value. Shown in above cell\n",
    "    #call ebfpoly to get value of solved equation\n",
    "    eva=ebfpoly(binaryTree_low,depth)\n",
    "    while abs(eva-nNodes)>precision and cnt<10000:    #check precision with precison of calculated value from ploynomial function \n",
    "        midpoint=(binaryTree_low + binaryTree_high)/2\n",
    "        eva=ebfpoly(midpoint,depth)\n",
    "        if(eva-nNodes)<0: #check in which range caluated value fall if less change low to mid else high =mid\n",
    "            binaryTree_low=midpoint\n",
    "        else:\n",
    "            binaryTree_high=midpoint     \n",
    "        cnt=cnt+1\n",
    "    return binaryTree_high\n",
    "    "
   ]
  },
  {
   "cell_type": "code",
   "execution_count": 4,
   "metadata": {
    "collapsed": true
   },
   "outputs": [],
   "source": [
    "def iterativeDeepeningSearch(startState, goalState, actionsF_8p, takeActionF_8p, maxDepth):\n",
    "    # Iterate depth limited search with range values of MaxDepth \n",
    "    for depth in range(maxDepth):\n",
    "        result = depthLimitedSearch(startState, goalState, actionsF_8p, takeActionF_8p, depth)\n",
    "        if result == 'failure':\n",
    "            return 'failure'\n",
    "        if result !='cutoff':\n",
    "           # Adding startState to front of solution path, in result, returned by depthLimitedSearch   \n",
    "            result.insert(0,startState)\n",
    "            return result\n",
    "    return 'cutoff'\n",
    "\n",
    "    \n",
    "def depthLimitedSearch(state, goalState, actionsF_8p, takeActionF_8p, depthLimit):\n",
    "    if state == goalState:\n",
    "        return []\n",
    "    if depthLimit==0:\n",
    "        return 'cutoff'\n",
    "    cutoffOccurred =False  \n",
    "    # Iterate over actions of state\n",
    "    for action in actionsF_8p(state):\n",
    "        global nNodes_ids\n",
    "        nNodes_ids=nNodes_ids+1\n",
    "        new_childList = list(state)    #copying state in newlist to avoid overwriting of state by recursive call\n",
    "        childState,_ = takeActionF_8p(new_childList, action)  #Get new state by applying actions and neglect cost value using ,_\n",
    "        #Recursive call with decrementing depthlimit \n",
    "        result = depthLimitedSearch(childState, goalState, actionsF_8p, takeActionF_8p, depthLimit-1)\n",
    "        if result=='cutoff':\n",
    "            cutoffOccurred=True\n",
    "        elif result != 'failure' :\n",
    "            #adding childState to front of partial solution path,in result, returned by depthLimitedSearch \n",
    "            result.insert(0,childState)\n",
    "            return result\n",
    "    if cutoffOccurred:\n",
    "        return 'cutoff'\n",
    "    else:\n",
    "        return 'failure'"
   ]
  },
  {
   "cell_type": "markdown",
   "metadata": {},
   "source": [
    "### Testing on Simple graph"
   ]
  },
  {
   "cell_type": "code",
   "execution_count": 5,
   "metadata": {
    "collapsed": true
   },
   "outputs": [],
   "source": [
    "def actionsF_simple(state):\n",
    "    succs = {'a': ['b', 'c'], 'b':['a'], 'c':['h'], 'h':['i'], 'i':['j', 'k', 'l'], 'k':['z']}\n",
    "    return [(s, 1) for s in succs.get(state, [])]\n",
    "\n",
    "def takeActionF_simple(state, action):\n",
    "    return action\n",
    "\n",
    "def goalTestF_simple(state, goal):\n",
    "    return state == goal\n",
    "\n",
    "def h_simple(state, goal):\n",
    "    return 1"
   ]
  },
  {
   "cell_type": "code",
   "execution_count": 6,
   "metadata": {},
   "outputs": [
    {
     "data": {
      "text/plain": [
       "[('b', 1), ('c', 1)]"
      ]
     },
     "execution_count": 6,
     "metadata": {},
     "output_type": "execute_result"
    }
   ],
   "source": [
    "actions = actionsF_simple('a')\n",
    "actions"
   ]
  },
  {
   "cell_type": "code",
   "execution_count": 7,
   "metadata": {},
   "outputs": [
    {
     "data": {
      "text/plain": [
       "('b', 1)"
      ]
     },
     "execution_count": 7,
     "metadata": {},
     "output_type": "execute_result"
    }
   ],
   "source": [
    "takeActionF_simple('a', actions[0])"
   ]
  },
  {
   "cell_type": "code",
   "execution_count": 8,
   "metadata": {},
   "outputs": [
    {
     "data": {
      "text/plain": [
       "True"
      ]
     },
     "execution_count": 8,
     "metadata": {},
     "output_type": "execute_result"
    }
   ],
   "source": [
    "goalTestF_simple('a', 'a')"
   ]
  },
  {
   "cell_type": "code",
   "execution_count": 9,
   "metadata": {},
   "outputs": [
    {
     "data": {
      "text/plain": [
       "1"
      ]
     },
     "execution_count": 9,
     "metadata": {},
     "output_type": "execute_result"
    }
   ],
   "source": [
    "h_simple('a', 'z')"
   ]
  },
  {
   "cell_type": "code",
   "execution_count": 10,
   "metadata": {},
   "outputs": [
    {
     "data": {
      "text/plain": [
       "['a', 'c', 'h', 'i', 'k', 'z']"
      ]
     },
     "execution_count": 10,
     "metadata": {},
     "output_type": "execute_result"
    }
   ],
   "source": [
    "iterativeDeepeningSearch('a', 'z', actionsF_simple, takeActionF_simple, 10)"
   ]
  },
  {
   "cell_type": "code",
   "execution_count": 11,
   "metadata": {},
   "outputs": [
    {
     "data": {
      "text/plain": [
       "(['a', 'c', 'h', 'i', 'k', 'z'], 5)"
      ]
     },
     "execution_count": 11,
     "metadata": {},
     "output_type": "execute_result"
    }
   ],
   "source": [
    "aStarSearch('a',actionsF_simple, takeActionF_simple,\n",
    "            lambda s: goalTestF_simple(s, 'z'),\n",
    "            lambda s: h_simple(s, 'z'))"
   ]
  },
  {
   "cell_type": "markdown",
   "metadata": {},
   "source": [
    "##  8- Puzzle Fuctions \n",
    "\n",
    "\n"
   ]
  },
  {
   "cell_type": "code",
   "execution_count": 12,
   "metadata": {
    "collapsed": true
   },
   "outputs": [],
   "source": [
    "#TOok from Chuck Anderson Notebook\n",
    "nNodes_ids=0\n",
    "nNodes_a=0\n",
    "def findBlank_8p(s):\n",
    "    return iTorc(s.index(0))\n",
    "\n",
    "\n",
    "def actionsF_8p(state):\n",
    "    r, c = findBlank_8p(state)\n",
    "    actions = []\n",
    "    if c > 0:\n",
    "        actions.append(('left',1))\n",
    "    if c < 2:\n",
    "        actions.append(('right',1))\n",
    "    if r > 0:\n",
    "        actions.append(('up',1))\n",
    "    if r < 2:\n",
    "        actions.append(('down',1))\n",
    "    return actions\n",
    "\n",
    "\n",
    "def takeActionF_8p(state, action):\n",
    "    import copy\n",
    "    state = copy.deepcopy(state)\n",
    "    r, c = findBlank_8p(state)\n",
    "    dr = dc = 0\n",
    "    #print(action)\n",
    "    if action ==('left',1):\n",
    "        dc -= 1\n",
    "    elif action == ('right',1):\n",
    "        dc += 1\n",
    "    elif action ==('up',1):\n",
    "        dr -= 1\n",
    "    elif action == ('down',1):\n",
    "        dr += 1\n",
    "    newr, newc = r+dr, c+dc\n",
    "    setTile(state, r, c, getTile(state, newr, newc))\n",
    "    setTile(state, newr, newc, 0)\n",
    "    return (state,1)\n",
    "\n",
    "\n",
    "def goalTestF_8p(s, goalState):\n",
    "    return s == goalState\n",
    "\n",
    "\n",
    "def printPath_8p(start, goal, solutionPath):\n",
    "    print('\\n\\nPath from')\n",
    "    printState_8p(start)\n",
    "    print('  to')\n",
    "    printState_8p(goal)\n",
    "    if solutionPath is 'cutoff':\n",
    "        print('was not found due to depth cutoff.')\n",
    "    elif solutionPath is 'failure':\n",
    "        print('cannot be found.')\n",
    "    else:\n",
    "        print('  is', len(solutionPath), 'nodes long:')\n",
    "        indent = 0\n",
    "        for s in solutionPath:\n",
    "            printState_8p(s, indent)\n",
    "            print()\n",
    "            indent += 1\n",
    "\n",
    "\n",
    "def printState_8p(state, indent=0):\n",
    "    st = list(map(str, state))\n",
    "    st[st.index('0')] = '-'\n",
    "    blanks = ' '*indent\n",
    "    for i in range(0, 9, 3):\n",
    "        print('{} {} {} {}'.format(blanks, st[0+i], st[1+i], st[2+i]))\n",
    "\n",
    "\n",
    "def rcToi(row, col):\n",
    "    return row*3+col\n",
    "\n",
    "\n",
    "def iTorc(i):\n",
    "    row = i // 3\n",
    "    col = i - row*3\n",
    "    return (row, col)\n",
    "\n",
    "\n",
    "def setTile(state, row, col, tile):\n",
    "    state[rcToi(row, col)] = tile\n",
    "    return state\n",
    "\n",
    "\n",
    "def getTile(state, row, col):\n",
    "    return state[rcToi(row, col)]"
   ]
  },
  {
   "cell_type": "markdown",
   "metadata": {
    "collapsed": true
   },
   "source": [
    "### Run Experiment"
   ]
  },
  {
   "cell_type": "markdown",
   "metadata": {
    "collapsed": true
   },
   "source": [
    "This function takes input list  of all requried goal state to be found and name list hueristics to be used. For each goals this function runs IDS and calculate  depth, nNodes and Effective branching factor. For A`*`, a goal is ran for each hueristic function and calulate depth, nNodes and Effective branching factor. Once, we get values of all required factor in list, then table function is called to print table.\n"
   ]
  },
  {
   "cell_type": "code",
   "execution_count": 13,
   "metadata": {
    "collapsed": true
   },
   "outputs": [],
   "source": [
    "def runExperiment(goalState1, goalState2, goalState3, hueristics):\n",
    "    startState=[1, 2, 3, 4,0, 5, 6, 7, 8]\n",
    "    goalState=[goalState1, goalState2, goalState3]\n",
    "    # Variables requried for IDS\n",
    "    depth_ids=[]\n",
    "    nNode_ids_print=[]\n",
    "    ebf_ids=[]\n",
    "    #Variable required for A* with hueristics\n",
    "    depth_a=[]\n",
    "    nNode_a_print=[]\n",
    "    ebf_a=[]\n",
    "    #Get goal from goals list\n",
    "    for goals in goalState:\n",
    "        #print( goals)\n",
    "        #reset Gobal value of node of IDS for each run\n",
    "        global nNodes_ids\n",
    "        nNodes_ids=0\n",
    "        #run iterative Deepening Search\n",
    "        path=iterativeDeepeningSearch(startState,goals, actionsF_8p, takeActionF_8p, 20)\n",
    "        #Get depth and append in list\n",
    "        depth=len(path)-1\n",
    "        depth_ids.append(depth)\n",
    "        #Get nNode count and append in list\n",
    "        nNode_ids_print.append(nNodes_ids)\n",
    "        #Get ebf Value and append each ebf value in list\n",
    "        ebf_id=ebf(nNodes_ids,depth)\n",
    "        ebf_ids.append(ebf_id)\n",
    "     #========================================================================================================\n",
    "        ''' FOR RUNNING A* WITH HUERISTICS '''\n",
    "        for hue in hueristics:\n",
    "            #reset Gobal value of node of A* for each run\n",
    "            global nNodes_a\n",
    "            nNodes_a=0\n",
    "            #Run A*\n",
    "            path_a = aStarSearch(startState,\n",
    "                     actionsF_8p, takeActionF_8p,\n",
    "                     lambda s: goalTestF_8p(s, goals),\n",
    "                     lambda s: hue(s, goals)) \n",
    "            #Get depth and append in list. [1] as direct depth value no need to calculate again\n",
    "            depth_tmp_a=path_a[1]\n",
    "            depth_a.append(depth_tmp_a)\n",
    "            #Get nNode count and append in list\n",
    "            nNode_a_print.append(nNodes_a)\n",
    "            #Get ebf Value and append each ebf value in list\n",
    "            ebf_a_tmp=ebf(nNodes_a,depth_tmp_a)\n",
    "            ebf_a.append(ebf_a_tmp)\n",
    "    # Following are print statement used to Debug        \n",
    "    #print(\"DEPTH _IDS :\", depth_ids)\n",
    "    #print(\"nNOdes : \", nNode_ids_print)\n",
    "    #print(\"EBF IDS\",ebf_id)\n",
    "    #print(\"++++++++++++++++++++++++++++\")\n",
    "    #print(\"DEPTH_ A : \",depth_a)\n",
    "    #print(\"Nnode_A\" , nNode_a_print)\n",
    "    #print(\"EBF_A \",ebf_a)\n",
    "    # Call print_table function with all list variables\n",
    "    table=print_table(depth_ids,nNode_ids_print,ebf_ids,depth_a,nNode_a_print,ebf_a,goalState)\n",
    "    print(table)    \n",
    "   "
   ]
  },
  {
   "cell_type": "code",
   "execution_count": 14,
   "metadata": {
    "collapsed": true
   },
   "outputs": [],
   "source": [
    "def print_table(depth_ids,nNode_ids_print,ebf_ids,depth_a,nNode_a_print,ebf_a,goalState):\n",
    "    # made custom format so that we can directly append values in {} part.\n",
    "    tableformat = '''\n",
    "            {}      {}               {} \n",
    "Algorithm    Depth  Nodes       EBF              Depth  Nodes   EBF                         Depth  Nodes       EBF          \n",
    "     IDS       {}      {}       {:.3f}              {}      {}      {:.3f}                     {}     {}      {:.3f}         \n",
    "    A*h1       {}      {}       {:.3f}              {}      {}     {:.3f}                     {}     {}      {:.3f}\n",
    "    A*h2       {}      {}       {:.3f}              {}      {}      {:.3f}                     {}     {}      {:.3f}\n",
    "    A*h3       {}      {}       {:.3f}              {}      {}       {:.3f}                     {}     {}        {:.3f}\n",
    "  \n",
    "'''\n",
    "    tableformat_final = tableformat.format(\n",
    "                             # Goal States\n",
    "                             goalState[0],\n",
    "                             goalState[1],\n",
    "                             goalState[2],\n",
    "                             # IDS\n",
    "                            depth_ids[0], nNode_ids_print[0], ebf_ids[0],\n",
    "                            depth_ids[1], nNode_ids_print[1], ebf_ids[1],\n",
    "                            depth_ids[2], nNode_ids_print[2], ebf_ids[2],\n",
    "                            #1st Huesritcis H1\n",
    "                            depth_a[0], nNode_a_print[0], ebf_a[0],\n",
    "                            depth_a[3], nNode_a_print[3], ebf_a[3],\n",
    "                            depth_a[6], nNode_a_print[6], ebf_a[6],\n",
    "                             #2nd Huesritcis H2\n",
    "                            depth_a[1], nNode_a_print[1], ebf_a[1],\n",
    "                            depth_a[4], nNode_a_print[4], ebf_a[4],\n",
    "                            depth_a[7], nNode_a_print[7], ebf_a[7],\n",
    "                             #3rd Huesritcis H3\n",
    "                            depth_a[2], nNode_a_print[2], ebf_a[2],\n",
    "                            depth_a[5], nNode_a_print[5], ebf_a[5],\n",
    "                            depth_a[8], nNode_a_print[8], ebf_a[8],)                       \n",
    "                            \n",
    "                          \n",
    "    return tableformat_final"
   ]
  },
  {
   "cell_type": "code",
   "execution_count": 15,
   "metadata": {},
   "outputs": [
    {
     "name": "stdout",
     "output_type": "stream",
     "text": [
      "\n",
      "            [1, 2, 3, 4, 0, 5, 6, 7, 8]      [1, 2, 3, 4, 5, 8, 6, 0, 7]               [1, 0, 3, 4, 5, 8, 2, 6, 7] \n",
      "Algorithm    Depth  Nodes       EBF              Depth  Nodes   EBF                         Depth  Nodes       EBF          \n",
      "     IDS       0      0       0.000              3      43      3.086                     11     225850      2.954         \n",
      "    A*h1       0      0       0.000              3      116     4.488                     11     643246      3.263\n",
      "    A*h2       0      0       0.000              3      51      3.297                     11     100046      2.733\n",
      "    A*h3       0      0       0.000              3      9       1.579                     11     5232        2.049\n",
      "  \n",
      "\n"
     ]
    }
   ],
   "source": [
    "hueristics=[h1_8p,h2_8p,h3_8p]\n",
    "runExperiment( [1, 2, 3, 4, 0, 5, 6, 7, 8],[1, 2, 3, 4, 5, 8, 6, 0, 7],[1, 0, 3, 4, 5, 8, 2, 6, 7] ,hueristics)"
   ]
  },
  {
   "cell_type": "markdown",
   "metadata": {},
   "source": [
    "\n",
    "# Conclusion \n",
    "\n",
    "Following table shows details of algorithms in which :\n",
    "\n",
    "b = branching factor\n",
    "\n",
    "d = depth of solution\n",
    "\n",
    "m = max depth for DFS variant\n",
    "\n",
    "L = depth limit for limitted DFS\n",
    "\n",
    "<table>\n",
    "  <thead>\n",
    "    <tr>\n",
    "      <th>Strategy</th>\n",
    "      <th>Complete?</th>\n",
    "      <th>Optimal?</th>\n",
    "      <th>Time Complexity?</th>\n",
    "      <th>Space Complexity?</th>\n",
    "      \n",
    "      \n",
    "    </tr>\n",
    "  </thead>\n",
    "  <tbody>\n",
    "    <tr>\n",
    "      <td>Breadth-first</td>\n",
    "      <td>Yes</td>\n",
    "      <td>Yes (for uniform cost)</td>\n",
    "      <td>Exponential:O(b^d)</td>\n",
    "      <td>Exponential:O(b^d)</td>\n",
    "    </tr>\n",
    "    <tr>\n",
    "      <td>Depth-(limited)-first</td>\n",
    "      <td>No</td>\n",
    "      <td>No</td>\n",
    "      <td>Exponential:O(b^m)</td>\n",
    "      <td>Linear:O(bm)</td>\n",
    "     \n",
    "    </tr>\n",
    "     <tr>\n",
    "      <td>Iterative-Deepening-Depth-first</td>\n",
    "      <td>Yes</td>\n",
    "      <td>Yes (for uniform cost)</td>\n",
    "      <td>Exponential:O(b^L)</td>\n",
    "      <td>Linear:O(bL)</td>\n",
    "     \n",
    "    </tr>\n",
    "    \n",
    "     <tr>\n",
    "      <td>A * Search</td>\n",
    "      <td>Yes</td>\n",
    "      <td>Yes </td>\n",
    "      <td>Exponential (worst case), \n",
    "      Linear (best case)\n",
    "      :Depends on heuristic</td>\n",
    "      <td>Exponential (worst case), Linear (best case)\n",
    "      :Depends on heuristic</td>\n",
    "     \n",
    "    </tr>\n",
    "  </tbody>\n",
    "</table>"
   ]
  },
  {
   "cell_type": "code",
   "execution_count": 16,
   "metadata": {},
   "outputs": [
    {
     "name": "stdout",
     "output_type": "stream",
     "text": [
      "\n",
      "Testing actionsF_8p([1, 2, 3, 4, 5, 6, 7, 0, 8])\n",
      "\n",
      "--- 5/5 points. Your actionsF_8p correctly returned [('left', 1), ('right', 1), ('up', 1)]\n",
      "\n",
      "Testing takeActionF_8p([1, 2, 3, 4, 5, 6, 7, 0, 8], (up, 1))\n",
      "\n",
      "--- 5/5 points. Your takeActionsF_8p correctly returned ([1, 2, 3, 4, 0, 6, 7, 5, 8], 1)\n",
      "\n",
      "Testing goalTestF_8p([1, 2, 3, 4, 5, 6, 7, 0, 8], [1, 2, 3, 4, 5, 6, 7, 0, 8])\n",
      "\n",
      "--- 5/5 points. Your goalTestF_8p correctly True\n",
      "\n",
      "Testing aStarSearch([1, 2, 3, 4, 5, 6, 7, 0, 8],\n",
      "                     actionsF_8p, takeActionF_8p,\n",
      "                     lambda s: goalTestF_8p(s, [0, 2, 3, 1, 4,  6, 7, 5, 8]),\n",
      "                     lambda s: h1_8p(s, [0, 2, 3, 1, 4,  6, 7, 5, 8]))\n",
      "\n",
      "--- 20/20 points. Your search correctly returned ([[1, 2, 3, 4, 5, 6, 7, 0, 8], [1, 2, 3, 4, 0, 6, 7, 5, 8], [1, 2, 3, 0, 4, 6, 7, 5, 8], [0, 2, 3, 1, 4, 6, 7, 5, 8]], 3)\n",
      "\n",
      "Testing iterativeDeepeningSearch([5, 2, 8, 0, 1, 4, 3, 7, 6], \n",
      "                                 [0, 2, 3, 1, 4,  6, 7, 5, 8],\n",
      "                                 actionsF_8p, takeActionF_8p, 10)\n",
      "\n",
      "--- 15/15 points. Your search correctly returned cutoff\n",
      "\n",
      "C:\\Users\\waradepratik Grade is 50/50\n"
     ]
    }
   ],
   "source": [
    "%run -i A3grader.py"
   ]
  }
 ],
 "metadata": {
  "kernelspec": {
   "display_name": "Python 3",
   "language": "python",
   "name": "python3"
  },
  "language_info": {
   "codemirror_mode": {
    "name": "ipython",
    "version": 3
   },
   "file_extension": ".py",
   "mimetype": "text/x-python",
   "name": "python",
   "nbconvert_exporter": "python",
   "pygments_lexer": "ipython3",
   "version": "3.6.4"
  }
 },
 "nbformat": 4,
 "nbformat_minor": 2
}
