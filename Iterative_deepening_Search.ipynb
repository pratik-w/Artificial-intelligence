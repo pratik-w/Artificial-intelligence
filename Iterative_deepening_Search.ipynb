{
 "cells": [
  {
   "cell_type": "markdown",
   "metadata": {},
   "source": [
    "# Assignment 2: Iterative-Deepening Search"
   ]
  },
  {
   "cell_type": "markdown",
   "metadata": {},
   "source": [
    "*Pratik Warade*"
   ]
  },
  {
   "cell_type": "markdown",
   "metadata": {},
   "source": [
    "## Overview"
   ]
  },
  {
   "cell_type": "markdown",
   "metadata": {},
   "source": [
    "In this assignment, I have implemented the iterative-deepening search algorithm and applied it to \" 8-puzzle \" and \" The Water Jug \" problem ."
   ]
  },
  {
   "cell_type": "markdown",
   "metadata": {},
   "source": [
    "## Understanding Of Algorithms"
   ]
  },
  {
   "cell_type": "markdown",
   "metadata": {},
   "source": [
    "### Depth Limited Search :\n",
    "Since the DFS search can lead to incomplete solutions due to depth unbounded trees (going down a path forever), depth-limited search ensures that the traversal along the depth of a path is limited to a certain pre-determined depth limit. For example, if we can assume that the goal node should be found within the depth limit of 5 from root node, in this case DLS would go down each path up to depth=5 only and search the tree until it finds the goal node eliminating the infinite-path problem found in general DFS search strategy. The problem with DLS is that it is hard to assume a best pre-determined depth-limit without affecting the solution.\n",
    "\n",
    "##### Performance Measure :\n",
    "* Completeness :\n",
    "  * The limited path introduces another problem which is the case when we choose `l < d`, in which is our DLS will never reach a goal, in this case we can say that DLS is not complete.\n",
    "\n",
    "\n",
    "\n",
    "* Optimallity :\n",
    " * One can view DFS as a special case of the depth DLS, that DFS is DLS with `l = infinity.`\n",
    "  * DLS is not optimal even if `l > d.`\n",
    "  \n",
    "  \n",
    "* `Time Complexity :  O(b^l)`\n",
    " \n",
    "* `Space Complexity: O(b^l)`\n",
    "\n"
   ]
  },
  {
   "cell_type": "markdown",
   "metadata": {},
   "source": [
    "### Iterative Deepening Search :\n",
    "This is another search strategy usually used as a combination with DFS which helps in finding the best depth-limit (which can be useful for applying depth-limited search). It starts off with depth=0 (only having the root node) and then gradually increasing the depth at each iteration until the goal node has been reached. This strategy tries to combine the good features of both BFS and DFS. As in DFS, its memory requirements are less and like BFS it is a complete algorithm given the branching factor from each node is a finite number and the path cost is a non-decreasing function of the depth of the node. This method is preferred for large search problems since it combines all the goodness of both BFS and DFS and tries to strike a balance between them allowing for better memory requirements and complete and optimal solution finding.\n",
    "\n",
    "\n",
    "\n",
    "<img src=\"http://www.cs.colostate.edu/~pswarade/pratik_imp/iddfs2.png\">\n",
    "\n",
    "\n",
    "\n",
    "#### Performance Measure :\n",
    "* Completeness:\n",
    " * IDS is like BFS, is complete when the branching factor b is finite.\n",
    "\n",
    "\n",
    "* Optimality:\n",
    " * IDS is also like BFS optimal when the steps are of the same cost.\n",
    "\n",
    "\n",
    "* Time Complexity:\n",
    " *One may find that it is wasteful to generate nodes multiple times, but actually it is not that costly compared to BFS, that is because most of the generated nodes are always in the deepest level reached, consider that we are searching a binary tree and our depth limit reached 4, the nodes generated in `last level = 2^4 = 16`, the nodes generated in all nodes before `last level = 20 + 21 + 22 + 23= 15`\n",
    " \n",
    " \n",
    "* Imagine this scenario, we are performing IDS and the depth limit reached depth d, now if you remember the way IDS expands nodes, you can see that nodes at depth d are generated once, nodes at depth d-1 are generated 2 times, nodes at depth d-2 are generated 3 times and so on, until you reach depth 1 which is generated d times, we can view the total number of generated nodes in the worst case as:\n",
    " *`N(IDS) = (b)d + (d – 1)b2 + (d – 2)b3 + …. + (2)bd-1 + (1)bd = O(bd)`\n",
    "\n",
    "\n",
    "* If this search were to be done with BFS, the total number of generated nodes in the worst case will be like:\n",
    " *`N(BFS) = b + b2 + b3 + b4 + …. bd + (bd + 1 – b) = O(bd + 1)`\n",
    "\n",
    "\n",
    "* If we consider a realistic numbers, and use b = 10 and d = 5, then number of generated nodes in BFS and IDS will be like\n",
    " *`N(IDS) = 50 + 400 + 3000 + 20000 + 100000 = 123450`\n",
    " *`N(BFS) = 10 + 100 + 1000 + 10000 + 100000 + 999990 = 1111100`\n",
    "\n",
    "* BFS generates like 9 time nodes to those generated with IDS.\n",
    "\n",
    "\n",
    "* Space Complexity:\n",
    " *IDS is like DFS in its space complexity, taking O(bd) of memory.\n",
    "\n",
    "\n",
    "...[https://mhesham.wordpress.com/tag/iterative-deepening-depth-first-search/ ]\n"
   ]
  },
  {
   "cell_type": "markdown",
   "metadata": {},
   "source": [
    "## 8- Puzzle :\n",
    "Given a 3×3 board with 8 tiles (every tile has one number from 1 to 8) and one empty space. The objective is to place the numbers on tiles to match final configuration using the empty space. We can slide four adjacent (left, right, above and below) tiles into the empty space\n",
    "### Solution to solve the 8-puzzle\n",
    "\n",
    "Following solution implements the state of the puzzle as a list of integers. 0 represents the empty position. \n",
    "<img src=\"http://www.cs.colostate.edu/~pswarade/pratik_imp/8puzle.png\">\n",
    "\n",
    "###### Required functions for the 8-puzzle\n"
   ]
  },
  {
   "cell_type": "code",
   "execution_count": 1,
   "metadata": {
    "collapsed": true
   },
   "outputs": [],
   "source": [
    "#REQUIRED IMPORTS\n",
    "import time\n",
    "from numpy import *\n",
    "import math\n",
    "import matplotlib.pyplot as plt\n",
    "%matplotlib inline\n",
    "import pylab as pl\n",
    "import pylab as pylab\n",
    "import matplotlib.image as mpimg\n",
    "import numpy as np\n",
    "from IPython import display\n",
    "import copy"
   ]
  },
  {
   "cell_type": "markdown",
   "metadata": {},
   "source": [
    "`findBlank_8p(state)`: returns the row and column index for the location of the blank (the 0 value)."
   ]
  },
  {
   "cell_type": "code",
   "execution_count": 2,
   "metadata": {
    "collapsed": true
   },
   "outputs": [],
   "source": [
    "def findBlank_8p(startState):\n",
    "    n=3\n",
    "    #covert list in two dimensinal vector\n",
    "    state=[startState[i:i+n] for i in range(0, len(startState), n)]\n",
    "    # state now is [[1, 6, 3], [4, 2, 5], [0, 7, 8]]\n",
    "    #geting tuple by enumerating over rows and coloumn elements\n",
    "    blank=[(ix,iy) for ix, row in enumerate(state) for iy, i in enumerate(row) if i == 0]    \n",
    "    return ((blank[0]))"
   ]
  },
  {
   "cell_type": "markdown",
   "metadata": {},
   "source": [
    "`actionsF_8p(state)`: returns a list of up to four valid actions that can be applied in `state`. Return them in the order `left`, `right`, `up`, `down`, though only if each one is a valid action."
   ]
  },
  {
   "cell_type": "code",
   "execution_count": 3,
   "metadata": {
    "collapsed": true
   },
   "outputs": [],
   "source": [
    "def actionsF_8p(startState):\n",
    "        #get the index of blank number and return moves that are possible\n",
    "        i=startState.index(0)\n",
    "        if (i==0):\n",
    "            return(['right','down'])\n",
    "        if(i==1):\n",
    "            return(['left','right','down'])\n",
    "        if(i==2):\n",
    "            return(['left','down'])\n",
    "        if(i==3):\n",
    "            return(['right','up','down'])\n",
    "        if(i==4):\n",
    "            return(['left','right','up','down'])\n",
    "        if(i==5):\n",
    "            return(['left','up','down'])\n",
    "        if(i==6):\n",
    "            return(['right','up'])\n",
    "        if(i==7):\n",
    "            return(['left','right','up'])\n",
    "        if(i==8):\n",
    "            return(['left','up'])"
   ]
  },
  {
   "cell_type": "markdown",
   "metadata": {},
   "source": [
    "`takeActionF_8p(state, action)`: return the state that results from applying `action` in `state`."
   ]
  },
  {
   "cell_type": "code",
   "execution_count": 4,
   "metadata": {
    "collapsed": true
   },
   "outputs": [],
   "source": [
    "def takeActionF_8p(state, action):\n",
    "    i=state.index(0) \n",
    "    if (action=='down'):\n",
    "        #if action is down then '0th' index increments by 3 and value at incremented index is assign to '0th' index\n",
    "        tmp=state[i]\n",
    "        state[i]= state[i+3]        \n",
    "        state[i+3]=tmp \n",
    "        return state         \n",
    "    elif(action=='up'):\n",
    "        #if action is up then '0th' index decrements by 3 and value at decremented index is assign to '0th' index\n",
    "        tmp=state[i]\n",
    "        state[i]= state[i-3]        \n",
    "        state[i-3]=tmp\n",
    "        return state\n",
    "    elif(action=='left'):\n",
    "        #if action is left then '0th' index decrements by 1 and value at decremented index is assign to '0th' index\n",
    "        tmp=state[i]\n",
    "        state[i]= state[i-1] \n",
    "        state[i-1]=tmp\n",
    "        return state\n",
    "    elif(action=='right'):\n",
    "        #if action is right then '0th' index increments by 1 and value at incremented index is assign to '0th' index\n",
    "        tmp=state[i]\n",
    "        state[i]= state[i+1]        \n",
    "        state[i+1]=tmp\n",
    "        return state"
   ]
  },
  {
   "cell_type": "markdown",
   "metadata": {},
   "source": [
    "`printPath_8p(startState, goalState, path)`: print a solution path in a readable form."
   ]
  },
  {
   "cell_type": "code",
   "execution_count": 5,
   "metadata": {
    "collapsed": true
   },
   "outputs": [],
   "source": [
    "def printPath_8p(startState):    \n",
    "    i=0\n",
    "    for value in startState:\n",
    "        #if value is 0 then print blank\n",
    "        if value==0:\n",
    "            value=' '\n",
    "        #print values on index is 2 or 5\n",
    "        if i==2 or i==5:\n",
    "            print(value)        \n",
    "        else:\n",
    "            print(value,end=\" \")\n",
    "        i=i+1"
   ]
  },
  {
   "cell_type": "markdown",
   "metadata": {},
   "source": [
    "This jupyter notebook consist of the following functions:\n",
    "\n",
    "  * `iterativeDeepeningSearch(startState, goalState, actionsF, takeActionF, maxDepth)`\n",
    "  * `depthLimitedSearch(startState, goalState, actionsF, takeActionF, depthLimit)`\n",
    "  \n",
    "`depthLimitedSearch` is called by `iterativeDeepeningSearch` with `depthLimit`s of $0, 1, \\ldots, $ `maxDepth`. Both returns either the solution path as a list of states, or the strings `cutoff` or `failure`.  `failure` signifies that all states were searched and the goal was not found. \n",
    "\n",
    "Each receives the arguments\n",
    "\n",
    "  * the starting state, \n",
    "  * the goal state,\n",
    "  * a function `actionsF` that is given a state and returns a list of valid actions from that state,\n",
    "  * a function `takeActionF` that is given a state and an action and returns the new state that results from applying the action to the state,\n",
    "  * either a `depthLimit` for `depthLimitedSearch`, or `maxDepth` for `iterativeDeepeningSearch`."
   ]
  },
  {
   "cell_type": "markdown",
   "metadata": {},
   "source": [
    "## Implementation of Algorithm "
   ]
  },
  {
   "cell_type": "markdown",
   "metadata": {},
   "source": [
    "##### Depth Limited Search"
   ]
  },
  {
   "cell_type": "code",
   "execution_count": 6,
   "metadata": {
    "collapsed": true
   },
   "outputs": [],
   "source": [
    "def depthLimitedSearch(state, goalState, actionsF_8p, takeActionF_8p, depthLimit):\n",
    "    if state == goalState:\n",
    "        return []\n",
    "    if depthLimit==0:\n",
    "        return 'cutoff'\n",
    "    cutoffOccurred =False  \n",
    "    # Iterate over actions of state\n",
    "    for action in actionsF_8p(state):\n",
    "        new_childList = list(state)    #copying state in newlist to avoid overwriting of state by recursive call\n",
    "        childState = takeActionF_8p(new_childList, action)  #Get new state by applying actions\n",
    "        #Recursive call with decrementing depthlimit \n",
    "        result = depthLimitedSearch(childState, goalState, actionsF_8p, takeActionF_8p, depthLimit-1)\n",
    "        if result=='cutoff':\n",
    "            cutoffOccurred=True\n",
    "        elif result != 'failure' :\n",
    "            #adding childState to front of partial solution path,in result, returned by depthLimitedSearch \n",
    "            result.insert(0,childState)\n",
    "            return result\n",
    "    if cutoffOccurred:\n",
    "        return 'cutoff'\n",
    "    else:\n",
    "        return 'failure'\n",
    "            "
   ]
  },
  {
   "cell_type": "markdown",
   "metadata": {},
   "source": [
    "##### Iterative Deepening Search"
   ]
  },
  {
   "cell_type": "code",
   "execution_count": 7,
   "metadata": {
    "collapsed": true
   },
   "outputs": [],
   "source": [
    "def iterativeDeepeningSearch(startState, goalState, actionsF_8p, takeActionF_8p, maxDepth):\n",
    "    # Iterate depth limited search with range values of MaxDepth \n",
    "    for depth in range(maxDepth):\n",
    "        result = depthLimitedSearch(startState, goalState, actionsF_8p, takeActionF_8p, depth)\n",
    "        if result == 'failure':\n",
    "            return 'failure'\n",
    "        if result !='cutoff':\n",
    "           # Adding startState to front of solution path, in result, returned by depthLimitedSearch   \n",
    "            result.insert(0,startState)\n",
    "            return result\n",
    "    return 'cutoff'"
   ]
  },
  {
   "cell_type": "markdown",
   "metadata": {},
   "source": [
    "Here are some example results."
   ]
  },
  {
   "cell_type": "code",
   "execution_count": 8,
   "metadata": {
    "collapsed": true
   },
   "outputs": [],
   "source": [
    "startState = [1, 0, 3, 4, 2, 5, 6, 7, 8]"
   ]
  },
  {
   "cell_type": "code",
   "execution_count": 9,
   "metadata": {},
   "outputs": [
    {
     "name": "stdout",
     "output_type": "stream",
     "text": [
      "1   3\n",
      "4 2 5\n",
      "6 7 8 "
     ]
    }
   ],
   "source": [
    "printPath_8p(startState)  # not a required function for this assignment, but it helps when implementing printPath_8p"
   ]
  },
  {
   "cell_type": "code",
   "execution_count": 10,
   "metadata": {},
   "outputs": [
    {
     "data": {
      "text/plain": [
       "(0, 1)"
      ]
     },
     "execution_count": 10,
     "metadata": {},
     "output_type": "execute_result"
    }
   ],
   "source": [
    "findBlank_8p(startState)"
   ]
  },
  {
   "cell_type": "code",
   "execution_count": 11,
   "metadata": {},
   "outputs": [
    {
     "data": {
      "text/plain": [
       "['left', 'right', 'down']"
      ]
     },
     "execution_count": 11,
     "metadata": {},
     "output_type": "execute_result"
    }
   ],
   "source": [
    "actionsF_8p(startState)"
   ]
  },
  {
   "cell_type": "code",
   "execution_count": 12,
   "metadata": {},
   "outputs": [
    {
     "data": {
      "text/plain": [
       "[1, 2, 3, 4, 0, 5, 6, 7, 8]"
      ]
     },
     "execution_count": 12,
     "metadata": {},
     "output_type": "execute_result"
    }
   ],
   "source": [
    "takeActionF_8p(startState, 'down')"
   ]
  },
  {
   "cell_type": "code",
   "execution_count": 13,
   "metadata": {},
   "outputs": [
    {
     "name": "stdout",
     "output_type": "stream",
     "text": [
      "1 2 3\n",
      "4   5\n",
      "6 7 8 "
     ]
    }
   ],
   "source": [
    "startState = [1, 0, 3, 4, 2, 5, 6, 7, 8]\n",
    "printPath_8p(takeActionF_8p(startState, 'down'))"
   ]
  },
  {
   "cell_type": "code",
   "execution_count": 14,
   "metadata": {
    "collapsed": true
   },
   "outputs": [],
   "source": [
    "startState = [1, 0, 3, 4, 2, 5, 6, 7, 8]\n",
    "goalState = takeActionF_8p(startState, 'down')"
   ]
  },
  {
   "cell_type": "code",
   "execution_count": 15,
   "metadata": {
    "collapsed": true
   },
   "outputs": [],
   "source": [
    "newState = takeActionF_8p(startState, 'down')"
   ]
  },
  {
   "cell_type": "code",
   "execution_count": 16,
   "metadata": {},
   "outputs": [
    {
     "data": {
      "text/plain": [
       "True"
      ]
     },
     "execution_count": 16,
     "metadata": {},
     "output_type": "execute_result"
    }
   ],
   "source": [
    "newState == goalState"
   ]
  },
  {
   "cell_type": "code",
   "execution_count": 17,
   "metadata": {
    "collapsed": true
   },
   "outputs": [],
   "source": [
    "startState=[1, 0, 3, 4, 2, 5, 6, 7, 8]\n",
    "goalState= [1, 2, 3, 4, 0, 5, 6, 7, 8]"
   ]
  },
  {
   "cell_type": "code",
   "execution_count": 18,
   "metadata": {
    "scrolled": true
   },
   "outputs": [
    {
     "data": {
      "text/plain": [
       "[[0, 1, 3, 4, 2, 5, 6, 7, 8],\n",
       " [1, 0, 3, 4, 2, 5, 6, 7, 8],\n",
       " [1, 2, 3, 4, 0, 5, 6, 7, 8]]"
      ]
     },
     "execution_count": 18,
     "metadata": {},
     "output_type": "execute_result"
    }
   ],
   "source": [
    "path = depthLimitedSearch(startState, goalState, actionsF_8p, takeActionF_8p, 3)\n",
    "path"
   ]
  },
  {
   "cell_type": "markdown",
   "metadata": {},
   "source": [
    "Notice that `depthLimitedSearch` result is missing the start state.  This is inserted by `iterativeDeepeningSearch`.\n",
    "\n",
    "But, when we try `iterativeDeepeningSearch` to do the same search, it finds a shorter path!"
   ]
  },
  {
   "cell_type": "code",
   "execution_count": 19,
   "metadata": {
    "scrolled": true
   },
   "outputs": [
    {
     "data": {
      "text/plain": [
       "[[1, 0, 3, 4, 2, 5, 6, 7, 8], [1, 2, 3, 4, 0, 5, 6, 7, 8]]"
      ]
     },
     "execution_count": 19,
     "metadata": {},
     "output_type": "execute_result"
    }
   ],
   "source": [
    "startState=[1, 0, 3, 4, 2, 5, 6, 7, 8]\n",
    "goalState= [1, 2, 3, 4, 0, 5, 6, 7, 8]\n",
    "path = iterativeDeepeningSearch(startState, goalState, actionsF_8p, takeActionF_8p, 3)\n",
    "path"
   ]
  },
  {
   "cell_type": "code",
   "execution_count": 20,
   "metadata": {},
   "outputs": [
    {
     "data": {
      "text/plain": [
       "'cutoff'"
      ]
     },
     "execution_count": 20,
     "metadata": {},
     "output_type": "execute_result"
    }
   ],
   "source": [
    "startState = [4, 7, 2, 1, 6, 5, 0, 3, 8]\n",
    "path = iterativeDeepeningSearch(startState, goalState, actionsF_8p, takeActionF_8p, 3)\n",
    "path"
   ]
  },
  {
   "cell_type": "code",
   "execution_count": 21,
   "metadata": {},
   "outputs": [
    {
     "data": {
      "text/plain": [
       "'cutoff'"
      ]
     },
     "execution_count": 21,
     "metadata": {},
     "output_type": "execute_result"
    }
   ],
   "source": [
    "startState = [4, 7, 2, 1, 6, 5, 0, 3, 8]\n",
    "path = iterativeDeepeningSearch(startState, goalState, actionsF_8p, takeActionF_8p, 5)\n",
    "path"
   ]
  },
  {
   "cell_type": "markdown",
   "metadata": {},
   "source": [
    "Humm...maybe we can't reach the goal state from this state.  We need a way to randomly generate a valid start state."
   ]
  },
  {
   "cell_type": "code",
   "execution_count": 22,
   "metadata": {
    "collapsed": true
   },
   "outputs": [],
   "source": [
    "import random"
   ]
  },
  {
   "cell_type": "code",
   "execution_count": 23,
   "metadata": {},
   "outputs": [
    {
     "data": {
      "text/plain": [
       "'right'"
      ]
     },
     "execution_count": 23,
     "metadata": {},
     "output_type": "execute_result"
    }
   ],
   "source": [
    "random.choice(['left', 'right'])"
   ]
  },
  {
   "cell_type": "code",
   "execution_count": 24,
   "metadata": {
    "collapsed": true
   },
   "outputs": [],
   "source": [
    "def randomStartState(goalState, actionsF, takeActionF, nSteps):\n",
    "    state = goalState\n",
    "    for i in range(nSteps):\n",
    "        state = takeActionF(state, random.choice(actionsF(state)))\n",
    "    return state"
   ]
  },
  {
   "cell_type": "code",
   "execution_count": 25,
   "metadata": {
    "collapsed": true
   },
   "outputs": [],
   "source": [
    "startState = randomStartState(goalState, actionsF_8p, takeActionF_8p, 10)"
   ]
  },
  {
   "cell_type": "code",
   "execution_count": 26,
   "metadata": {},
   "outputs": [
    {
     "data": {
      "text/plain": [
       "[[0, 1, 3, 4, 2, 5, 6, 7, 8]]"
      ]
     },
     "execution_count": 26,
     "metadata": {},
     "output_type": "execute_result"
    }
   ],
   "source": [
    "path = iterativeDeepeningSearch(startState, goalState, actionsF_8p, takeActionF_8p, 20)\n",
    "path"
   ]
  },
  {
   "cell_type": "markdown",
   "metadata": {},
   "source": [
    "Let's print out the state sequence in a readable form."
   ]
  },
  {
   "cell_type": "code",
   "execution_count": 27,
   "metadata": {},
   "outputs": [
    {
     "name": "stdout",
     "output_type": "stream",
     "text": [
      "  1 3\n",
      "4 2 5\n",
      "6 7 8 \n",
      "\n",
      "\n"
     ]
    }
   ],
   "source": [
    "for p in path:\n",
    "    printPath_8p(p)\n",
    "    print()\n",
    "    print('\\n')"
   ]
  },
  {
   "cell_type": "markdown",
   "metadata": {
    "collapsed": true
   },
   "source": [
    "## Water - Jugs  Problem"
   ]
  },
  {
   "cell_type": "markdown",
   "metadata": {
    "collapsed": true
   },
   "source": [
    "We have one 3 gallon jug, one 4 gallon jug and an unlimited supply of water. The goal is to get exactly two gallon of water into 4 gallon jug. Either jug can be emptied or filled, or poured into the other. \n",
    "<img src=\"http://www.cs.colostate.edu/~pswarade/pratik_imp/jug.png\">\n"
   ]
  },
  {
   "cell_type": "markdown",
   "metadata": {},
   "source": [
    "### State Space Representation "
   ]
  },
  {
   "cell_type": "markdown",
   "metadata": {
    "collapsed": true
   },
   "source": [
    "A state in this problem could be represented with list of two numbers. The first representing the number of gallons of water in the `3gl`  or small jug, and the second representing the number of gallons of water in the `4gl` or (large) jug.\n",
    "\n",
    "The initial state would typically be:` [0,0]` to represent the fact that both jugs start off empty.\n",
    "\n",
    "The final state would similarly be represented as:` [0,2]`.\n",
    "\n",
    "Sample Solution Space is as shown bellow : \n",
    "(Note:  It does not contains all action from particular state. Its just sample.\n",
    "\n",
    "<img src=\"http://www.cs.colostate.edu/~pswarade/pratik_imp/samplespacejug.png\">\n"
   ]
  },
  {
   "cell_type": "markdown",
   "metadata": {
    "collapsed": true
   },
   "source": [
    "`actionsF_Jug` : retrun number of possible states from a given state.\n",
    "In this problem number of possible states are as follows :\n",
    "\n",
    "* F4 : Fill jug4 from water pump\n",
    "* F3 : Fill jug3 from water pump\n",
    "* E4 : Empty jug4 till it becomes empty\n",
    "* E4-3 : Empty water from jug4 to jug3 until 3gl is full\n",
    "* P3-4 : Pour water from jug3 to jug4 unitl jug4 is full\n",
    "* P4-3 : Pour water from jug4 to jug3 unitl jug3 is full\n",
    "* E3-4 : Empty water from jug3 to jug4 until 3gl is empty\n"
   ]
  },
  {
   "cell_type": "code",
   "execution_count": 28,
   "metadata": {
    "collapsed": true
   },
   "outputs": [],
   "source": [
    "def actionsF_Jug(startState):\n",
    "    final=[]\n",
    "    j3=startState[0]\n",
    "    j4=startState[1]\n",
    "    print(j3,j4)\n",
    "    if(j4<4):        \n",
    "        final.append('F4')\n",
    "    if( j3<3):\n",
    "        final.append('F3')\n",
    "    if(j4>0):        \n",
    "        final.append('E4')\n",
    "    if(j3<3 and j4>=3-j3):\n",
    "        final.append('E4-3')\n",
    "    if(j4<4 and j3>=4-j4):\n",
    "        final.append('P3-4')\n",
    "    if(j4>0 and j3+j4>=3):\n",
    "        final.append('P4-3')\n",
    "    if(j3+j4<4 and j3>0):\n",
    "        final.append('E3-4')\n",
    "    return final"
   ]
  },
  {
   "cell_type": "markdown",
   "metadata": {
    "collapsed": true
   },
   "source": [
    "takeActionF_jug : retruns the modified list based on action.\n",
    "In this problem, actions are takes based on following details :\n",
    "\n",
    "* F4 :     \n",
    " * Precondition : `J4 < 4`         \n",
    " * Effect : `J'4= 4`\n",
    "* F3 :\n",
    " * Precondition : `J3 < 3`    \n",
    " * Effect: `J'3= 3`\n",
    "* E4 : \n",
    " * Precondition : `J4 > 0`   \n",
    " * Effect:` J'4=0`\n",
    "* E4-3 :\n",
    " * Precondition : `J3 < 3 && J4>= 4 -J3  ` \n",
    " * Effect : `  J'3=3  && J'4= J'4-(3-J3) `\n",
    "* P3-4 :  \n",
    " * Precondition :` J4 < 4 && J3>= 4 -J4 `   \n",
    " * Effect : `  J'4=4  &&  J'3= J'3-(4-J4)`\n",
    "* P4-3 :  \n",
    " * Precondition : `J4 > 0 && J3 + J4 >=3   `  \n",
    " * Effect:`  J'4=J4 + J3 -3 && J'3=0)`\n",
    "* E3-4 :  \n",
    " * Precondition : `J3 + J4 < 4  &&   J3 > 0  ` \n",
    " * Effect :`   J'4=J3 + J4 && J'3 = 0 `"
   ]
  },
  {
   "cell_type": "code",
   "execution_count": 29,
   "metadata": {
    "collapsed": true
   },
   "outputs": [],
   "source": [
    "def takeActionF_jug(state, action):\n",
    "    j3=state[0]\n",
    "    j4=state[1]\n",
    "    if(action=='E4'):\n",
    "        state[1]=0\n",
    "    if(action=='F4'):\n",
    "        state[1]=4\n",
    "    if(action=='F3'):\n",
    "        state[0]=3\n",
    "    if(action=='E4-3'):\n",
    "        state[0]=3\n",
    "        tmp=3-j3\n",
    "        state[1]=state[1]-tmp   \n",
    "    if(action=='E3-4'):\n",
    "        state[1]=j3+j4\n",
    "        state[0]=0 \n",
    "    if(action=='P3-4'):\n",
    "        state[1]=4\n",
    "        tmp=4-j4\n",
    "        state[0]=j3-tmp\n",
    "    if(action=='P4-3'):\n",
    "        state[1]=j4+j3-3\n",
    "        state[0]=3\n",
    "    return state"
   ]
  },
  {
   "cell_type": "markdown",
   "metadata": {
    "collapsed": true
   },
   "source": [
    "###  Algorithm for Water Jug Problem"
   ]
  },
  {
   "cell_type": "markdown",
   "metadata": {},
   "source": [
    "NOTE : I tried to put  condition in above code to switch algorithm based on length of state, which worked for both probems but grader.py was taking random testcases, so I need to make two sets of same algorithm"
   ]
  },
  {
   "cell_type": "code",
   "execution_count": 30,
   "metadata": {
    "collapsed": true
   },
   "outputs": [],
   "source": [
    "def depthLimitedSearch_jug(state, goalState, actionsF_Jug, takeActionF_jug, depthLimit):\n",
    "    if state == goalState:\n",
    "        return []\n",
    "    if depthLimit==0:\n",
    "        return 'cutoff'\n",
    "    cutoffOccurred =False  \n",
    "    # Iterate over actions of state\n",
    "    for action in actionsF_Jug(state):\n",
    "        new_childList = list(state)    #copying state in newlist to avoid overwriting of state by recursive call\n",
    "        childState = takeActionF_jug(new_childList, action)  #Get new state by applying actions\n",
    "        #Recursive call with decrementing depthlimit \n",
    "        result = depthLimitedSearch(childState, goalState, actionsF_Jug, takeActionF_jug, depthLimit-1)\n",
    "        if result=='cutoff':\n",
    "            cutoffOccurred=True\n",
    "        elif result != 'failure' :\n",
    "            #adding childState to front of partial solution path,in result, returned by depthLimitedSearch \n",
    "            result.insert(0,childState)\n",
    "            return result\n",
    "    if cutoffOccurred:\n",
    "        return 'cutoff'\n",
    "    else:\n",
    "        return 'failure'\n",
    "\n",
    "def iterativeDeepeningSearch_jug(startState, goalState, actionsF_Jug, takeActionF_jug, maxDepth):\n",
    "    # Iterate depth limited search with range values of MaxDepth \n",
    "    for depth in range(maxDepth):\n",
    "        result = depthLimitedSearch(startState, goalState, actionsF_Jug, takeActionF_jug, depth)\n",
    "        if result == 'failure':\n",
    "            return 'failure'\n",
    "        if result !='cutoff':\n",
    "           # Adding startState to front of solution path, in result, returned by depthLimitedSearch   \n",
    "            result.insert(0,startState)\n",
    "            return result\n",
    "    return 'cutoff'\n",
    "            "
   ]
  },
  {
   "cell_type": "code",
   "execution_count": 31,
   "metadata": {},
   "outputs": [
    {
     "name": "stdout",
     "output_type": "stream",
     "text": [
      "0 0\n",
      "0 4\n",
      "3 4\n",
      "3 0\n",
      "3 4\n",
      "3 0\n",
      "3 4\n",
      "0 3\n",
      "0 4\n",
      "3 3\n",
      "0 0\n",
      "3 0\n",
      "3 0\n",
      "3 4\n",
      "3 0\n",
      "3 4\n",
      "0 3\n",
      "3 4\n",
      "3 0\n",
      "3 4\n",
      "0 0\n",
      "0 4\n",
      "3 4\n",
      "3 0\n",
      "3 4\n",
      "0 0\n",
      "0 4\n",
      "3 0\n",
      "3 1\n",
      "3 4\n",
      "3 0\n",
      "0 4\n",
      "3 1\n",
      "3 1\n",
      "3 4\n",
      "3 0\n",
      "0 4\n",
      "3 1\n",
      "3 0\n",
      "3 4\n",
      "3 0\n",
      "3 4\n",
      "0 3\n",
      "0 4\n",
      "3 3\n",
      "0 0\n",
      "3 0\n",
      "3 0\n",
      "3 1\n",
      "3 4\n",
      "3 0\n",
      "3 4\n",
      "0 3\n",
      "3 4\n",
      "3 0\n",
      "3 4\n",
      "3 0\n",
      "3 4\n",
      "3 0\n",
      "3 4\n",
      "0 3\n",
      "0 4\n",
      "3 3\n",
      "0 0\n",
      "3 0\n",
      "3 0\n",
      "0 4\n",
      "3 4\n",
      "3 0\n",
      "3 4\n",
      "0 0\n",
      "0 4\n",
      "3 0\n",
      "3 1\n",
      "3 4\n",
      "3 0\n",
      "0 4\n",
      "3 1\n",
      "3 1\n",
      "3 4\n",
      "3 0\n",
      "0 4\n",
      "3 1\n",
      "3 1\n",
      "3 4\n",
      "3 0\n",
      "3 4\n",
      "3 0\n",
      "3 4\n",
      "0 3\n",
      "0 4\n",
      "3 4\n",
      "0 0\n",
      "3 1\n",
      "3 1\n",
      "3 1\n",
      "3 4\n",
      "3 0\n",
      "0 4\n",
      "3 1\n",
      "3 1\n",
      "3 4\n",
      "3 0\n",
      "3 4\n",
      "0 3\n",
      "3 4\n",
      "3 0\n",
      "3 4\n",
      "3 0\n",
      "3 4\n",
      "3 0\n",
      "3 4\n",
      "0 3\n",
      "0 4\n",
      "3 3\n",
      "0 0\n",
      "3 0\n",
      "3 0\n",
      "0 4\n",
      "3 4\n",
      "3 0\n",
      "3 4\n",
      "0 0\n",
      "0 4\n",
      "3 0\n",
      "3 1\n",
      "3 4\n",
      "3 0\n",
      "0 4\n",
      "3 1\n",
      "3 1\n",
      "3 4\n",
      "3 0\n",
      "0 4\n",
      "3 1\n",
      "3 1\n",
      "3 4\n",
      "3 0\n",
      "3 4\n",
      "3 0\n",
      "3 4\n",
      "0 3\n",
      "0 4\n",
      "3 4\n",
      "0 0\n",
      "3 1\n",
      "3 1\n",
      "3 1\n",
      "3 4\n",
      "3 0\n",
      "0 4\n",
      "3 1\n",
      "3 0\n",
      "3 4\n",
      "3 0\n",
      "3 4\n",
      "3 0\n",
      "3 4\n",
      "0 3\n",
      "0 4\n",
      "3 3\n",
      "0 0\n",
      "3 0\n",
      "3 0\n",
      "3 4\n",
      "3 0\n",
      "3 4\n",
      "0 3\n",
      "3 4\n",
      "3 0\n",
      "3 4\n",
      "0 3\n",
      "0 4\n",
      "3 4\n",
      "3 0\n",
      "3 4\n",
      "0 0\n",
      "0 4\n",
      "3 0\n",
      "3 1\n",
      "3 4\n",
      "3 0\n",
      "0 4\n",
      "3 1\n",
      "3 1\n",
      "3 4\n",
      "3 0\n",
      "0 4\n",
      "3 1\n",
      "3 3\n",
      "3 4\n",
      "3 0\n",
      "3 4\n",
      "3 0\n",
      "3 4\n",
      "0 3\n",
      "2 4\n",
      "3 4\n",
      "2 0\n"
     ]
    }
   ],
   "source": [
    "#let start with empty jug and start both search algorithm to find goal state which is J4 be 2.\n",
    "startState = [0,0]\n",
    "goalState=[0,2]\n",
    "path = depthLimitedSearch_jug(startState, goalState, actionsF_Jug, takeActionF_jug,6)\n"
   ]
  },
  {
   "cell_type": "code",
   "execution_count": 32,
   "metadata": {},
   "outputs": [
    {
     "name": "stdout",
     "output_type": "stream",
     "text": [
      "Water Jug Problem solution ( Depth limited Search ): ( 6 steps)\n",
      "[3, 0]\n",
      "[0, 3]\n",
      "[3, 3]\n",
      "[2, 4]\n",
      "[2, 0]\n",
      "[0, 2]\n"
     ]
    }
   ],
   "source": [
    "print('Water Jug Problem solution ( Depth limited Search ): (', len(path), 'steps)')\n",
    "for s in path:\n",
    "    print(s)"
   ]
  },
  {
   "cell_type": "code",
   "execution_count": 33,
   "metadata": {},
   "outputs": [
    {
     "name": "stdout",
     "output_type": "stream",
     "text": [
      "0 0\n",
      "0 0\n",
      "0 4\n",
      "3 0\n",
      "0 0\n",
      "0 4\n",
      "3 4\n",
      "0 0\n",
      "3 1\n",
      "3 1\n",
      "3 0\n",
      "3 4\n",
      "0 3\n",
      "0 0\n",
      "0 4\n",
      "3 4\n",
      "3 0\n",
      "3 4\n",
      "0 0\n",
      "0 4\n",
      "3 0\n",
      "3 1\n",
      "3 4\n",
      "3 0\n",
      "0 4\n",
      "3 1\n",
      "3 1\n",
      "3 4\n",
      "3 0\n",
      "0 4\n",
      "3 1\n",
      "3 0\n",
      "3 4\n",
      "3 0\n",
      "3 4\n",
      "0 3\n",
      "0 4\n",
      "3 3\n",
      "0 0\n",
      "3 0\n",
      "3 0\n",
      "0 0\n",
      "0 4\n",
      "3 4\n",
      "3 0\n",
      "3 4\n",
      "0 3\n",
      "3 4\n",
      "3 0\n",
      "3 4\n",
      "0 0\n",
      "0 4\n",
      "3 4\n",
      "0 0\n",
      "3 1\n",
      "3 1\n",
      "3 0\n",
      "3 4\n",
      "0 3\n",
      "3 1\n",
      "3 4\n",
      "3 0\n",
      "3 4\n",
      "3 0\n",
      "3 4\n",
      "0 3\n",
      "0 4\n",
      "3 4\n",
      "0 0\n",
      "3 1\n",
      "3 1\n",
      "3 1\n",
      "3 4\n",
      "3 0\n",
      "0 4\n",
      "3 1\n",
      "3 1\n",
      "3 4\n",
      "3 0\n",
      "3 4\n",
      "3 0\n",
      "3 4\n",
      "0 3\n",
      "0 4\n",
      "3 4\n",
      "0 0\n",
      "3 1\n",
      "3 1\n",
      "3 1\n",
      "3 4\n",
      "3 0\n",
      "0 4\n",
      "3 1\n",
      "3 0\n",
      "3 4\n",
      "3 0\n",
      "3 4\n",
      "0 3\n",
      "3 4\n",
      "3 0\n",
      "3 4\n",
      "0 3\n",
      "0 4\n",
      "3 4\n",
      "0 0\n",
      "3 1\n",
      "3 1\n",
      "3 3\n",
      "3 4\n",
      "3 0\n",
      "2 4\n",
      "3 3\n",
      "0 0\n",
      "0 4\n",
      "3 0\n",
      "3 0\n",
      "3 4\n",
      "0 3\n",
      "3 0\n",
      "3 4\n",
      "0 3\n",
      "0 0\n",
      "0 4\n",
      "3 4\n",
      "3 0\n",
      "3 4\n",
      "3 0\n",
      "3 4\n",
      "0 3\n",
      "0 4\n",
      "3 3\n",
      "0 0\n",
      "3 0\n",
      "3 0\n",
      "3 4\n",
      "3 0\n",
      "3 4\n",
      "0 3\n",
      "3 4\n",
      "3 0\n",
      "3 4\n",
      "0 0\n",
      "0 4\n",
      "3 4\n",
      "3 0\n",
      "3 4\n",
      "0 0\n",
      "0 4\n",
      "3 0\n",
      "3 1\n",
      "3 4\n",
      "3 0\n",
      "0 4\n",
      "3 1\n",
      "3 1\n",
      "3 4\n",
      "3 0\n",
      "0 4\n",
      "3 1\n",
      "3 0\n",
      "3 4\n",
      "3 0\n",
      "3 4\n",
      "0 3\n",
      "0 4\n",
      "3 3\n",
      "0 0\n",
      "3 0\n",
      "3 0\n",
      "3 1\n",
      "3 4\n",
      "3 0\n",
      "3 4\n",
      "0 3\n",
      "3 4\n",
      "3 0\n",
      "3 4\n",
      "3 0\n",
      "3 4\n",
      "3 0\n",
      "3 4\n",
      "0 3\n",
      "0 4\n",
      "3 3\n",
      "0 0\n",
      "3 0\n",
      "3 0\n",
      "0 4\n",
      "3 4\n",
      "3 0\n",
      "3 4\n",
      "0 0\n",
      "0 4\n",
      "3 0\n",
      "3 1\n",
      "3 4\n",
      "3 0\n",
      "0 4\n",
      "3 1\n",
      "3 1\n",
      "3 4\n",
      "3 0\n",
      "0 4\n",
      "3 1\n",
      "3 1\n",
      "3 4\n",
      "3 0\n",
      "3 4\n",
      "3 0\n",
      "3 4\n",
      "0 3\n",
      "0 4\n",
      "3 4\n",
      "0 0\n",
      "3 1\n",
      "3 1\n",
      "3 1\n",
      "3 4\n",
      "3 0\n",
      "0 4\n",
      "3 1\n",
      "3 1\n",
      "3 4\n",
      "3 0\n",
      "3 4\n",
      "0 3\n",
      "3 4\n",
      "3 0\n",
      "3 4\n",
      "3 0\n",
      "3 4\n",
      "3 0\n",
      "3 4\n",
      "0 3\n",
      "0 4\n",
      "3 3\n",
      "0 0\n",
      "3 0\n",
      "3 0\n",
      "0 4\n",
      "3 4\n",
      "3 0\n",
      "3 4\n",
      "0 0\n",
      "0 4\n",
      "3 0\n",
      "3 1\n",
      "3 4\n",
      "3 0\n",
      "0 4\n",
      "3 1\n",
      "3 1\n",
      "3 4\n",
      "3 0\n",
      "0 4\n",
      "3 1\n",
      "3 1\n",
      "3 4\n",
      "3 0\n",
      "3 4\n",
      "3 0\n",
      "3 4\n",
      "0 3\n",
      "0 4\n",
      "3 4\n",
      "0 0\n",
      "3 1\n",
      "3 1\n",
      "3 1\n",
      "3 4\n",
      "3 0\n",
      "0 4\n",
      "3 1\n",
      "3 0\n",
      "3 4\n",
      "3 0\n",
      "3 4\n",
      "3 0\n",
      "3 4\n",
      "0 3\n",
      "0 4\n",
      "3 3\n",
      "0 0\n",
      "3 0\n",
      "3 0\n",
      "3 4\n",
      "3 0\n",
      "3 4\n",
      "0 3\n",
      "3 4\n",
      "3 0\n",
      "3 4\n",
      "0 3\n",
      "0 4\n",
      "3 4\n",
      "3 0\n",
      "3 4\n",
      "0 0\n",
      "0 4\n",
      "3 0\n",
      "3 1\n",
      "3 4\n",
      "3 0\n",
      "0 4\n",
      "3 1\n",
      "3 1\n",
      "3 4\n",
      "3 0\n",
      "0 4\n",
      "3 1\n",
      "3 3\n",
      "3 4\n",
      "3 0\n",
      "3 4\n",
      "3 0\n",
      "3 4\n",
      "0 3\n",
      "2 4\n",
      "3 4\n",
      "2 0\n"
     ]
    },
    {
     "data": {
      "text/plain": [
       "[[0, 0], [3, 0], [0, 3], [3, 3], [2, 4], [2, 0], [0, 2]]"
      ]
     },
     "execution_count": 33,
     "metadata": {},
     "output_type": "execute_result"
    }
   ],
   "source": [
    "startState = [0,0]\n",
    "goalState=[0,2]\n",
    "path_deeping_search = iterativeDeepeningSearch(startState, goalState, actionsF_Jug, takeActionF_jug, 8)\n",
    "path_deeping_search"
   ]
  },
  {
   "cell_type": "code",
   "execution_count": 34,
   "metadata": {},
   "outputs": [
    {
     "name": "stdout",
     "output_type": "stream",
     "text": [
      "Water Jug Problem solution (Iterative Deepining Search ) ( 7 steps)\n",
      "[0, 0]\n",
      "[3, 0]\n",
      "[0, 3]\n",
      "[3, 3]\n",
      "[2, 4]\n",
      "[2, 0]\n",
      "[0, 2]\n"
     ]
    }
   ],
   "source": [
    "print('Water Jug Problem solution (Iterative Deepining Search ) (', len(path_deeping_search), 'steps)')\n",
    "for s in path_deeping_search:\n",
    "    print(s)"
   ]
  },
  {
   "cell_type": "markdown",
   "metadata": {},
   "source": [
    "### Animate Solution Path"
   ]
  },
  {
   "cell_type": "code",
   "execution_count": 35,
   "metadata": {},
   "outputs": [
    {
     "data": {
      "image/png": "[encoded data removed]",
      "text/plain": [
       "<matplotlib.figure.Figure at 0x14c8e9e3438>"
      ]
     },
     "metadata": {},
     "output_type": "display_data"
    }
   ],
   "source": [
    "#import images required\n",
    "\n",
    "j4_full = mpimg.imread('http://www.cs.colostate.edu/~pswarade/pratik_imp/J4_Full.png')\n",
    "j4_empty=mpimg.imread('http://www.cs.colostate.edu/~pswarade/pratik_imp/J4_Empty.png')\n",
    "j4_3gl = mpimg.imread('http://www.cs.colostate.edu/~pswarade/pratik_imp/J4_3gl.png')\n",
    "j4_2gl = mpimg.imread('http://www.cs.colostate.edu/~pswarade/pratik_imp/J4_2gl.png')\n",
    "j4_1gl = mpimg.imread('http://www.cs.colostate.edu/~pswarade/pratik_imp/J4_1gl.png')\n",
    "j3_full = mpimg.imread('http://www.cs.colostate.edu/~pswarade/pratik_imp/J3_Full_pump.png')\n",
    "j3_empty = mpimg.imread('http://www.cs.colostate.edu/~pswarade/pratik_imp/J3_Empty.png')\n",
    "j3_2gl = mpimg.imread('http://www.cs.colostate.edu/~pswarade/pratik_imp/jug3_2gl.png')\n",
    "j3_1gl = mpimg.imread('http://www.cs.colostate.edu/~pswarade/pratik_imp/jug3_1gl.png')\n",
    "\n",
    "#iterate over list of lists\n",
    "for path in path_deeping_search:\n",
    "        if(path[0]==0): \n",
    "            plt.figure(1)\n",
    "            ax=plt.subplot(1,2,1)\n",
    "           # ax.set_title('J3')\n",
    "            plt.axis('off')\n",
    "            plt.imshow(j3_empty)\n",
    "          \n",
    "        if(path[0]==3):    \n",
    "            plt.subplot(1,2,1)    \n",
    "            plt.axis('off')    \n",
    "            plt.imshow(j3_full)\n",
    "           # display.clear_output(wait=True)\n",
    "        if(path[0]==2):    \n",
    "            plt.subplot(1,2,1)    \n",
    "            plt.axis('off')    \n",
    "            plt.imshow(j3_2gl)\n",
    "           # display.clear_output(wait=True)\n",
    "        if(path[0]==1):    \n",
    "            plt.subplot(1,2,1)    \n",
    "            plt.axis('off')    \n",
    "            plt.imshow(j3_1gl)\n",
    "           # display.clear_output(wait=True)       \n",
    "            \n",
    "        if(path[1]==4):    \n",
    "            plt.subplot(1,2,2)    \n",
    "            plt.axis('off')    \n",
    "            plt.imshow(j4_full)\n",
    "           # display.clear_output(wait=True)\n",
    "        if(path[1]==0):    \n",
    "            plt.subplot(1,2,2)    \n",
    "            plt.axis('off')    \n",
    "            plt.imshow(j4_empty)\n",
    "            #display.clear_output(wait=True)\n",
    "        if(path[1]==3):    \n",
    "            plt.subplot(1,2,2)    \n",
    "            plt.axis('off')    \n",
    "            plt.imshow(j4_3gl)\n",
    "           # display.clear_output(wait=True)\n",
    "        if(path[1]==2):    \n",
    "            plt.subplot(1,2,2)    \n",
    "            plt.axis('off')    \n",
    "            plt.imshow(j4_2gl)\n",
    "            display.clear_output(wait=True)\n",
    "        if(path[1]==1):    \n",
    "            plt.subplot(1,2,2)    \n",
    "            plt.axis('off')    \n",
    "            plt.imshow(j4_1gl)\n",
    "           # display.clear_output(wait=True)\n",
    "        \n",
    "        display.display(pl.gcf())    \n",
    "        time.sleep(2)\n",
    "        display.clear_output(wait=True)\n",
    "        plt.show()        \n",
    "        #display.clear_output(wait=True)\n",
    "        time.sleep(2)\n",
    "        \n",
    "    \n",
    "    \n"
   ]
  },
  {
   "cell_type": "markdown",
   "metadata": {},
   "source": [
    "## Conclusion : \n",
    "   Looking on solution path generated from both the problem above we can conclude that\n",
    "*  DLS can be used when the there is a prior knowledge to the problem, which is always not the case, Typically, we   will not      know the depth of the shallowest goal of a problem unless we solved this problem before.\n",
    "\n",
    "* Also, IDS is a hybrid search strategy between BFS and DFS inheriting their advantages.\n",
    " IDS is faster than BFS and DFS.It is said that “IDS is the preferred uniformed search method when there is a large search space   and the depth of the solution is not known”"
   ]
  },
  {
   "cell_type": "code",
   "execution_count": 28,
   "metadata": {},
   "outputs": [
    {
     "ename": "AttributeError",
     "evalue": "module 'signal' has no attribute 'SIGALRM'",
     "output_type": "error",
     "traceback": [
      "\u001b[1;31m---------------------------------------------------------------------------\u001b[0m",
      "\u001b[1;31mAttributeError\u001b[0m                            Traceback (most recent call last)",
      "\u001b[1;32mC:\\Users\\waradepratik\\A2graderfinal.py\u001b[0m in \u001b[0;36m<module>\u001b[1;34m()\u001b[0m\n\u001b[0;32m     23\u001b[0m \u001b[1;33m\u001b[0m\u001b[0m\n\u001b[0;32m     24\u001b[0m \u001b[1;33m\u001b[0m\u001b[0m\n\u001b[1;32m---> 25\u001b[1;33m \u001b[0msignal\u001b[0m\u001b[1;33m.\u001b[0m\u001b[0msignal\u001b[0m\u001b[1;33m(\u001b[0m\u001b[0msignal\u001b[0m\u001b[1;33m.\u001b[0m\u001b[0mSIGALRM\u001b[0m\u001b[1;33m,\u001b[0m \u001b[0mtimeout\u001b[0m\u001b[1;33m)\u001b[0m\u001b[1;33m\u001b[0m\u001b[0m\n\u001b[0m\u001b[0;32m     26\u001b[0m \u001b[1;33m\u001b[0m\u001b[0m\n\u001b[0;32m     27\u001b[0m \u001b[1;33m\u001b[0m\u001b[0m\n",
      "\u001b[1;31mAttributeError\u001b[0m: module 'signal' has no attribute 'SIGALRM'"
     ]
    }
   ],
   "source": [
    "%run -i A2graderfinal.py"
   ]
  },
  {
   "cell_type": "code",
   "execution_count": null,
   "metadata": {
    "collapsed": true
   },
   "outputs": [],
   "source": []
  },
  {
   "cell_type": "code",
   "execution_count": null,
   "metadata": {
    "collapsed": true
   },
   "outputs": [],
   "source": []
  },
  {
   "cell_type": "code",
   "execution_count": 37,
   "metadata": {},
   "outputs": [
    {
     "name": "stdout",
     "output_type": "stream",
     "text": [
      "\n",
      "Searching this graph:\n",
      " {'a': ['b', 'z', 'd'], 'b': ['a'], 'e': ['z'], 'd': ['y'], 'y': ['z'], 'z': ['g']}\n",
      "\n",
      "Looking for path from a to g with max depth of 1.\n",
      " 5/ 5 points. Your search correctly returned cutoff\n",
      "\n",
      "Looking for path from a to g with max depth of 5.\n",
      "10/10 points. Your search correctly returned ['a', 'z', 'g']\n",
      "\n",
      "Testing findBlank_8p([1, 2, 3, 4, 5, 6, 7, 0, 8])\n",
      "5/5 points. Your findBlank_8p correctly returned 2 1\n",
      "\n",
      "Testing actionsF_8p([1, 2, 3, 4, 5, 6, 7, 0, 8])\n",
      "5/5 points. Your actionsF_8p correctly returned ['left', 'right', 'up']\n",
      "\n",
      "Testing takeActionF_8p([1, 2, 3, 4, 5, 6, 7, 0, 8],'up')\n",
      "5/5 points. Your takeActionsF_8p correctly returned [1, 2, 3, 4, 0, 6, 7, 5, 8]\n",
      "\n",
      "Testing iterativeDeepeningSearch([1, 2, 3, 4, 5, 6, 7, 0, 8],[0, 2, 3, 1, 4,  6, 7, 5, 8], actionsF_8p, takeActionF_8p, 5)\n",
      "20/20 points. Your search correctly returned [[1, 2, 3, 4, 5, 6, 7, 0, 8], [1, 2, 3, 4, 0, 6, 7, 5, 8], [1, 2, 3, 0, 4, 6, 7, 5, 8], [0, 2, 3, 1, 4, 6, 7, 5, 8]]\n",
      "\n",
      "Testing iterativeDeepeningSearch([5, 2, 8, 0, 1, 4, 3, 7, 6], [0, 2, 3, 1, 4,  6, 7, 5, 8], actionsF_8p, takeActionF_8p, 10)\n",
      "20/20 points. Your search correctly returned cutoff\n",
      "\n",
      "Testing iterativeDeepeningSearch([0, 1, 5, 4, 3, 8, 6, 2, 7], [1, 2, 3, 4, 0, 5, 6, 7, 8], actionsF_8p, takeActionF_8p, 15)\n",
      "20/20 points. Your search correctly returned [[0, 1, 5, 4, 3, 8, 6, 2, 7], [1, 0, 5, 4, 3, 8, 6, 2, 7], [1, 3, 5, 4, 0, 8, 6, 2, 7], [1, 3, 5, 4, 2, 8, 6, 0, 7], [1, 3, 5, 4, 2, 8, 6, 7, 0], [1, 3, 5, 4, 2, 0, 6, 7, 8], [1, 3, 0, 4, 2, 5, 6, 7, 8], [1, 0, 3, 4, 2, 5, 6, 7, 8], [1, 2, 3, 4, 0, 5, 6, 7, 8]]\n",
      "\n",
      "C:\\Users\\waradepratik Grade is 90/90\n",
      "\n",
      "C:\\Users\\waradepratik SECOND search problem grade is __/10\n",
      "\n",
      "C:\\Users\\waradepratik FINAL GRADE is __/100\n"
     ]
    }
   ],
   "source": [
    "\n",
    "g = 0\n",
    "\n",
    "for func in ['iterativeDeepeningSearch', 'depthLimitedSearch',\n",
    "             'findBlank_8p', 'actionsF_8p', 'takeActionF_8p', 'printPath_8p']:\n",
    "    if func not in dir() or not callable(globals()[func]):\n",
    "        print('CRITICAL ERROR: Function named \\'{}\\' is not defined'.format(func))\n",
    "        print('  Check the spelling and capitalization of the function name.')\n",
    "\n",
    "seconds = 60 * 5\n",
    "\n",
    "succs = {'a': ['b', 'z', 'd'], 'b':['a'], 'e':['z'], 'd':['y'], 'y':['z'], 'z':['g']}\n",
    "print('\\nSearching this graph:\\n', succs)\n",
    "def aF(state):\n",
    "    return copy.copy(succs.get(state,[]))\n",
    "def tAF(state, action):\n",
    "    return action\n",
    "print('\\nLooking for path from a to g with max depth of 1.')\n",
    "\n",
    "#signal.alarm(seconds)\n",
    "try:\n",
    "    path = iterativeDeepeningSearch('a', 'g', aF, tAF, 1)\n",
    "    if type(path) == str and path.lower() == 'cutoff':\n",
    "        g += 5\n",
    "        print(' 5/ 5 points. Your search correctly returned', path)\n",
    "    else:\n",
    "        print(' 0/ 5 points. Your search should have returned ''cutoff''. You returned', path)\n",
    "\n",
    "except TimeoutException:\n",
    "    print('0/5 points. Your iterativeDeepeningSearch did not terminate in', seconds/60, 'minutes.')\n",
    "\n",
    "except Exception:\n",
    "    print('0/5 points. Your iterativeDeepeningSearch raised an exception.')\n",
    "\n",
    "\n",
    "print('\\nLooking for path from a to g with max depth of 5.')\n",
    "\n",
    "try:\n",
    "    path = iterativeDeepeningSearch('a', 'g', aF, tAF, 5)\n",
    "    if path == ['a', 'z', 'g']:\n",
    "        g += 10\n",
    "        print('10/10 points. Your search correctly returned', path)\n",
    "    else:\n",
    "        print(' 0/10 points. Your search should have returned', ['a', 'g'])\n",
    "\n",
    "except TimeoutException:\n",
    "    print('0/10 points. Your iterativeDeepeningSearch did not terminate in', seconds/60, 'minutes.')\n",
    "\n",
    "except Exception:\n",
    "    print('0/10 points. Your iterativeDeepeningSearch raised an exception.')\n",
    "    \n",
    "\n",
    "\n",
    "print('\\nTesting findBlank_8p([1, 2, 3, 4, 5, 6, 7, 0, 8])')\n",
    "r, c = findBlank_8p([1, 2, 3, 4, 5, 6, 7, 0, 8])\n",
    "if r == 2 and c == 1:\n",
    "    g += 5\n",
    "    print('5/5 points. Your findBlank_8p correctly returned', r, c)\n",
    "else:\n",
    "    print('0/5 points. Your findBlank_8p should have returned 2 1 but you returned', r, c)\n",
    "\n",
    "print('\\nTesting actionsF_8p([1, 2, 3, 4, 5, 6, 7, 0, 8])')\n",
    "acts = actionsF_8p([1, 2, 3, 4, 5, 6, 7, 0, 8])\n",
    "correct = ['left', 'right', 'up']\n",
    "if acts == correct:\n",
    "    g += 5\n",
    "    print('5/5 points. Your actionsF_8p correctly returned', acts)\n",
    "else:\n",
    "    print('0/5 points. Your actionsF_8p should have returned', correct, 'but you returned', acts)\n",
    "\n",
    "print('\\nTesting takeActionF_8p([1, 2, 3, 4, 5, 6, 7, 0, 8],\\'up\\')')\n",
    "s = takeActionF_8p([1, 2, 3, 4, 5, 6, 7, 0, 8],'up')\n",
    "correct = [1, 2, 3, 4, 0, 6, 7, 5, 8]\n",
    "if s == correct:\n",
    "    g += 5\n",
    "    print('5/5 points. Your takeActionsF_8p correctly returned', s)\n",
    "else:\n",
    "    print('0/5 points. Your takeActionsF_8p should have returned', correct, 'but you returned', s)\n",
    "\n",
    "\n",
    "print('\\nTesting iterativeDeepeningSearch([1, 2, 3, 4, 5, 6, 7, 0, 8],[0, 2, 3, 1, 4,  6, 7, 5, 8], actionsF_8p, takeActionF_8p, 5)')\n",
    "\n",
    "try:\n",
    "    path = iterativeDeepeningSearch([1, 2, 3, 4, 5, 6, 7, 0, 8],[0, 2, 3, 1, 4,  6, 7, 5, 8], actionsF_8p, takeActionF_8p, 5)\n",
    "    correct = [[1, 2, 3, 4, 5, 6, 7, 0, 8], [1, 2, 3, 4, 0, 6, 7, 5, 8], [1, 2, 3, 0, 4, 6, 7, 5, 8], [0, 2, 3, 1, 4, 6, 7, 5, 8]]\n",
    "    if path == correct:\n",
    "        g += 20\n",
    "        print('20/20 points. Your search correctly returned', path)\n",
    "    else:\n",
    "        print('0/20 points. Your search should have returned', correct, 'but you returned', path)\n",
    "\n",
    "except TimeoutException:\n",
    "    print('0/20 points. Your iterativeDeepeningSearch did not terminate in', seconds/60, 'minutes.')\n",
    "\n",
    "except Exception:\n",
    "    print('0/20 points. Your iterativeDeepeningSearch raised an exception.')\n",
    "    \n",
    "\n",
    "print('\\nTesting iterativeDeepeningSearch([5, 2, 8, 0, 1, 4, 3, 7, 6], [0, 2, 3, 1, 4,  6, 7, 5, 8], actionsF_8p, takeActionF_8p, 10)')\n",
    "#signal.alarm(seconds)\n",
    "try:\n",
    "    path = iterativeDeepeningSearch([5, 2, 8, 0, 1, 4, 3, 7, 6],[0, 2, 3, 1, 4,  6, 7, 5, 8], actionsF_8p, takeActionF_8p, 10)\n",
    "    if type(path) == str and path.lower() == 'cutoff':\n",
    "        g += 20\n",
    "        print('20/20 points. Your search correctly returned', path)\n",
    "    else:\n",
    "        print('0/20 points. Your search should have returned ''cutoff'', but you returned', path)\n",
    "\n",
    "except TimeoutException:\n",
    "    print('0/20 points. Your iterativeDeepeningSearch did not terminate in', seconds/60, 'minutes.')\n",
    "\n",
    "except Exception:\n",
    "    print('0/20 points. Your iterativeDeepeningSearch raised an exception.')\n",
    "\n",
    "\n",
    "print('\\nTesting iterativeDeepeningSearch([0, 1, 5, 4, 3, 8, 6, 2, 7], [1, 2, 3, 4, 0, 5, 6, 7, 8], actionsF_8p, takeActionF_8p, 15)')\n",
    "\n",
    "try:\n",
    "    path = iterativeDeepeningSearch(\n",
    "        [0, 1, 5, 4, 3, 8, 6, 2, 7],\n",
    "        [1, 2, 3, 4, 0, 5, 6, 7, 8], actionsF_8p, takeActionF_8p, 15)\n",
    "    if type(path) == list and len(path) == 9:\n",
    "        g += 20\n",
    "        print('20/20 points. Your search correctly returned', path)\n",
    "    else:\n",
    "        print('0/20 points. Your search should have returned a path of length 9')\n",
    "\n",
    "except TimeoutException:\n",
    "    print('0/20 points. Your iterativeDeepeningSearch did not terminate in', seconds/60, 'minutes.')\n",
    "\n",
    "except Exception:\n",
    "    print('0/20 points. Your iterativeDeepeningSearch raised an exception.')\n",
    "import os    \n",
    "name = os.getcwd().split('/')[-1]\n",
    "print('\\n{} Grade is {}/90'.format(name, g))\n",
    "print('\\n{} SECOND search problem grade is __/10'.format(name))\n",
    "print('\\n{} FINAL GRADE is __/100'.format(name))\n",
    "\n",
    "\n",
    "\n",
    "\n"
   ]
  },
  {
   "cell_type": "code",
   "execution_count": null,
   "metadata": {
    "collapsed": true
   },
   "outputs": [],
   "source": []
  },
  {
   "cell_type": "code",
   "execution_count": null,
   "metadata": {
    "collapsed": true
   },
   "outputs": [],
   "source": []
  },
  {
   "cell_type": "code",
   "execution_count": null,
   "metadata": {
    "collapsed": true
   },
   "outputs": [],
   "source": []
  },
  {
   "cell_type": "code",
   "execution_count": null,
   "metadata": {
    "collapsed": true
   },
   "outputs": [],
   "source": []
  },
  {
   "cell_type": "code",
   "execution_count": null,
   "metadata": {
    "collapsed": true
   },
   "outputs": [],
   "source": []
  },
  {
   "cell_type": "code",
   "execution_count": null,
   "metadata": {
    "collapsed": true
   },
   "outputs": [],
   "source": []
  },
  {
   "cell_type": "code",
   "execution_count": null,
   "metadata": {
    "collapsed": true
   },
   "outputs": [],
   "source": []
  },
  {
   "cell_type": "code",
   "execution_count": null,
   "metadata": {
    "collapsed": true
   },
   "outputs": [],
   "source": []
  }
 ],
 "metadata": {
  "anaconda-cloud": {},
  "kernelspec": {
   "display_name": "Python 3",
   "language": "python",
   "name": "python3"
  },
  "language_info": {
   "codemirror_mode": {
    "name": "ipython",
    "version": 3
   },
   "file_extension": ".py",
   "mimetype": "text/x-python",
   "name": "python",
   "nbconvert_exporter": "python",
   "pygments_lexer": "ipython3",
   "version": "3.6.4"
  }
 },
 "nbformat": 4,
 "nbformat_minor": 1
}
